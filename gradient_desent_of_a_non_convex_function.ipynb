{
  "nbformat": 4,
  "nbformat_minor": 0,
  "metadata": {
    "colab": {
      "provenance": [],
      "authorship_tag": "ABX9TyP1PlxuogZP/7sOSbNtik+8",
      "include_colab_link": true
    },
    "kernelspec": {
      "name": "python3",
      "display_name": "Python 3"
    }
  },
  "cells": [
    {
      "cell_type": "markdown",
      "metadata": {
        "id": "view-in-github",
        "colab_type": "text"
      },
      "source": [
        "<a href=\"https://colab.research.google.com/github/ibribr/DT8807/blob/master/gradient_desent_of_a_non_convex_function.ipynb\" target=\"_parent\"><img src=\"https://colab.research.google.com/assets/colab-badge.svg\" alt=\"Open In Colab\"/></a>"
      ]
    },
    {
      "cell_type": "code",
      "source": [
        "#animate GD algorithm: code from Rasmus <openrasmus@gmail.com>\n",
        "# https://www.wolframalpha.com/ \n",
        "!pip install celluloid\n",
        "!pip install sympy\n",
        "from celluloid import Camera\n",
        "import numpy as np\n",
        "import matplotlib.pyplot as plt\n",
        "import sympy\n",
        "import random \n",
        "import math\n",
        "from sympy import *\n",
        "from IPython import display\n",
        "from time import sleep"
      ],
      "metadata": {
        "colab": {
          "base_uri": "https://localhost:8080/"
        },
        "id": "DKCILtPCwgYZ",
        "outputId": "157095cd-f32a-41e7-8475-92eaaf8113ea"
      },
      "execution_count": 28,
      "outputs": [
        {
          "output_type": "stream",
          "name": "stdout",
          "text": [
            "Looking in indexes: https://pypi.org/simple, https://us-python.pkg.dev/colab-wheels/public/simple/\n",
            "Requirement already satisfied: celluloid in /usr/local/lib/python3.8/dist-packages (0.2.0)\n",
            "Requirement already satisfied: matplotlib in /usr/local/lib/python3.8/dist-packages (from celluloid) (3.2.2)\n",
            "Requirement already satisfied: pyparsing!=2.0.4,!=2.1.2,!=2.1.6,>=2.0.1 in /usr/local/lib/python3.8/dist-packages (from matplotlib->celluloid) (3.0.9)\n",
            "Requirement already satisfied: kiwisolver>=1.0.1 in /usr/local/lib/python3.8/dist-packages (from matplotlib->celluloid) (1.4.4)\n",
            "Requirement already satisfied: numpy>=1.11 in /usr/local/lib/python3.8/dist-packages (from matplotlib->celluloid) (1.21.6)\n",
            "Requirement already satisfied: python-dateutil>=2.1 in /usr/local/lib/python3.8/dist-packages (from matplotlib->celluloid) (2.8.2)\n",
            "Requirement already satisfied: cycler>=0.10 in /usr/local/lib/python3.8/dist-packages (from matplotlib->celluloid) (0.11.0)\n",
            "Requirement already satisfied: six>=1.5 in /usr/local/lib/python3.8/dist-packages (from python-dateutil>=2.1->matplotlib->celluloid) (1.15.0)\n",
            "Looking in indexes: https://pypi.org/simple, https://us-python.pkg.dev/colab-wheels/public/simple/\n",
            "Requirement already satisfied: sympy in /usr/local/lib/python3.8/dist-packages (1.7.1)\n",
            "Requirement already satisfied: mpmath>=0.19 in /usr/local/lib/python3.8/dist-packages (from sympy) (1.2.1)\n"
          ]
        }
      ]
    },
    {
      "cell_type": "code",
      "metadata": {
        "id": "yamLtiIJ8D2f",
        "colab": {
          "base_uri": "https://localhost:8080/",
          "height": 279
        },
        "outputId": "99755c14-e84e-4176-993e-52d13dbf6c5f"
      },
      "source": [
        "#define a non-convex function\n",
        "f = lambda x : x*(x-1)*(x-2)*(x-3)*(x-4)*(x+1)+10*x\n",
        "\n",
        "xx = np.linspace(-1.5,4.4)\n",
        "plt.plot(xx,f(xx))\n",
        "plt.grid()\n",
        "plt.xlabel('x')\n",
        "plt.ylabel('f(x)')\n",
        "plt.show()"
      ],
      "execution_count": 32,
      "outputs": [
        {
          "output_type": "display_data",
          "data": {
            "text/plain": [
              "<Figure size 432x288 with 1 Axes>"
            ],
            "image/png": "[encoded data removed]"
          },
          "metadata": {
            "needs_background": "light"
          }
        }
      ]
    },
    {
      "cell_type": "code",
      "metadata": {
        "id": "c9MQeixYJoLj",
        "colab": {
          "base_uri": "https://localhost:8080/",
          "height": 609
        },
        "outputId": "9bf6997d-281b-49ae-ab93-6e198cb4bad2"
      },
      "source": [
        "# define the function and differentiate it\n",
        "# create a \"symbol\" called x\n",
        "x = Symbol('x')\n",
        " \n",
        "#Define function\n",
        "fx = x*(x-1)*(x-2)*(x-3)*(x-4)*(x+1)+10*x\n",
        "df = fx.diff(x)\n",
        "print('Non-convex function:\\n', fx)\n",
        "print('Gradient (i.e., first derivative):\\n',df)\n",
        " \n",
        "fx = lambdify(x, fx)\n",
        "df = lambdify(x, df)\n",
        "print(df(xx))\n",
        "\n",
        "plt.plot(xx, df(xx))\n",
        "plt.plot(xx, fx(xx))"
      ],
      "execution_count": 55,
      "outputs": [
        {
          "output_type": "stream",
          "name": "stdout",
          "text": [
            "Non-convex function:\n",
            " x*(x - 4)*(x - 3)*(x - 2)*(x - 1)*(x + 1) + 10*x\n",
            "Gradient (i.e., first derivative):\n",
            " x*(x - 4)*(x - 3)*(x - 2)*(x - 1) + x*(x - 4)*(x - 3)*(x - 2)*(x + 1) + x*(x - 4)*(x - 3)*(x - 1)*(x + 1) + x*(x - 4)*(x - 2)*(x - 1)*(x + 1) + x*(x - 3)*(x - 2)*(x - 1)*(x + 1) + (x - 4)*(x - 3)*(x - 2)*(x - 1)*(x + 1) + 10\n",
            "[-6.00125000e+02 -4.35477908e+02 -3.03641767e+02 -1.99985383e+02\n",
            " -1.20295139e+02 -6.07567750e+01 -1.79371608e+01  1.12339238e+01\n",
            "  2.94820127e+01  3.92061758e+01  4.24972418e+01  4.11560209e+01\n",
            "  3.67115274e+01  3.04392025e+01  2.33791370e+01  1.63542937e+01\n",
            "  9.98873029e+00  4.72582207e+00  8.46484492e-01 -1.51260407e+00\n",
            " -2.34077970e+00 -1.73517023e+00  1.17527402e-01  2.95926987e+00\n",
            "  6.47889009e+00  1.03303200e+01  1.41508129e+01  1.75791669e+01\n",
            "  2.02739464e+01  2.19317061e+01  2.23052125e+01  2.12216675e+01\n",
            "  1.86009304e+01  1.44737410e+01  8.99994200e+00  2.48670197e+00\n",
            " -4.59326227e+00 -1.15834628e+01 -1.76254180e+01 -2.16404298e+01\n",
            " -2.23113610e+01 -1.80644128e+01 -7.05090180e+00  1.28709624e+01\n",
            "  4.41543000e+01  8.95817838e+01  1.52283861e+02  2.35756979e+02\n",
            "  3.43881802e+02  4.80941440e+02]\n"
          ]
        },
        {
          "output_type": "execute_result",
          "data": {
            "text/plain": [
              "[<matplotlib.lines.Line2D at 0x7f8c0e0c9c70>]"
            ]
          },
          "metadata": {},
          "execution_count": 55
        },
        {
          "output_type": "display_data",
          "data": {
            "text/plain": [
              "<Figure size 432x288 with 1 Axes>"
            ],
            "image/png": "[encoded data removed]"
          },
          "metadata": {
            "needs_background": "light"
          }
        }
      ]
    },
    {
      "cell_type": "code",
      "metadata": {
        "id": "eF0_PS0hL94G",
        "colab": {
          "base_uri": "https://localhost:8080/",
          "height": 315
        },
        "outputId": "b4cf2f8b-4234-49b8-f9b9-c1566c1f7b25"
      },
      "source": [
        "#Gradient desent\n",
        "epochs = 100\n",
        "eta = 0.001\n",
        "bita = 0.0   #momentum term\n",
        "x = random.uniform(-1.5,4.4)\n",
        "print(x)\n",
        "x = 4.3#-1.4\n",
        "print(x)\n",
        "\n",
        "plt.close('all')\n",
        "fig = plt.figure()\n",
        "#plt.plot(x, fx(x),'rs')\n",
        "plt.xlabel('x')\n",
        "plt.ylabel('f(x)')\n",
        "camera = Camera(fig)\n",
        "delta_x0 = 0\n",
        "for i in range(epochs):\n",
        "  plt.plot(x, fx(x),'go')\n",
        "  plt.plot(xx, fx(xx), 'b-')\n",
        "  camera.snap()\n",
        "  \n",
        "  #x += -eta * df(x);    #try: eta/(i+1)\n",
        "  delta_x = eta * df(x) + bita * delta_x0 \n",
        "  x =  x - delta_x\n",
        "  delta_x0 = delta_x\n",
        "\n",
        "  display.display(plt.gcf())\n",
        "  display.clear_output(wait=True)\n",
        "  sleep(0.8)\n",
        " \n",
        "  if np.abs(df(x)) <= 10**-1:\n",
        "    print(df(x))\n",
        "    break\n",
        "\n",
        "animation = camera.animate(blit=False)\n",
        "animation.save('gradient_descent.mp4',fps=15)\n",
        "print('animation is ready')"
      ],
      "execution_count": 91,
      "outputs": [
        {
          "output_type": "stream",
          "name": "stdout",
          "text": [
            "1.0981692106781793e-06\n",
            "animation is ready\n"
          ]
        },
        {
          "output_type": "display_data",
          "data": {
            "text/plain": [
              "<Figure size 432x288 with 1 Axes>"
            ],
            "image/png": "[encoded data removed]"
          },
          "metadata": {
            "needs_background": "light"
          }
        }
      ]
    },
    {
      "cell_type": "code",
      "metadata": {
        "id": "i8QpidYugXwq",
        "colab": {
          "base_uri": "https://localhost:8080/",
          "height": 34
        },
        "outputId": "efa4f6d1-d80d-4b75-8e17-d80a34be1296"
      },
      "source": [
        "ls"
      ],
      "execution_count": null,
      "outputs": [
        {
          "output_type": "stream",
          "text": [
            "gradient_descent.mp4  \u001b[0m\u001b[01;34msample_data\u001b[0m/\n"
          ],
          "name": "stdout"
        }
      ]
    }
  ]
}