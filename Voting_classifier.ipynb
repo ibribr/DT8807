{
  "nbformat": 4,
  "nbformat_minor": 0,
  "metadata": {
    "colab": {
      "provenance": [],
      "authorship_tag": "ABX9TyMDwePdCFAfjtPNovKj+heA",
      "include_colab_link": true
    },
    "kernelspec": {
      "name": "python3",
      "display_name": "Python 3"
    },
    "language_info": {
      "name": "python"
    },
    "accelerator": "GPU",
    "gpuClass": "standard"
  },
  "cells": [
    {
      "cell_type": "markdown",
      "metadata": {
        "id": "view-in-github",
        "colab_type": "text"
      },
      "source": [
        "<a href=\"https://colab.research.google.com/github/ibribr/DT8807/blob/master/Voting_classifier.ipynb\" target=\"_parent\"><img src=\"https://colab.research.google.com/assets/colab-badge.svg\" alt=\"Open In Colab\"/></a>"
      ]
    },
    {
      "cell_type": "code",
      "source": [
        "#!pip install wandb -qqq"
      ],
      "metadata": {
        "id": "8oCw9gZMPYCO"
      },
      "execution_count": null,
      "outputs": []
    },
    {
      "cell_type": "code",
      "source": [
        "# implement hard and soft voting classifier\n",
        "\n",
        "# Import the required libraries\n",
        "import numpy as np\n",
        "from sklearn import datasets, linear_model, svm, neighbors\n",
        "from sklearn.neural_network import MLPClassifier\n",
        "from sklearn.model_selection import train_test_split\n",
        "# import the voting classifier\n",
        "from sklearn.ensemble import VotingClassifier\n",
        "# import the voting regressor\n",
        "from sklearn.ensemble import VotingRegressor\n",
        "from sklearn.metrics import accuracy_score, confusion_matrix, classification_report, f1_score\n",
        "from sklearn.metrics import ConfusionMatrixDisplay\n",
        "import matplotlib.pyplot as plt\n",
        "#import wandb"
      ],
      "metadata": {
        "id": "K0nM8jBTSBHy"
      },
      "execution_count": null,
      "outputs": []
    },
    {
      "cell_type": "code",
      "source": [
        "# Load the dataset\n",
        "breast_cancer = datasets.load_breast_cancer()\n",
        "x, y = breast_cancer.data, breast_cancer.target\n",
        "\n",
        "print(x.shape)\n",
        "print(y.shape)\n",
        "\n",
        "# Split the train and test samples\n",
        "test_samples = 100\n",
        "x_train, y_train = x[:-test_samples], y[:-test_samples]\n",
        "x_test, y_test = x[-test_samples:], y[-test_samples:]\n",
        "\n",
        "# split data into training and testing sets\n",
        "x_train, x_test, y_train, y_test = train_test_split(x, y, test_size=0.25, random_state=42, stratify=y)\n",
        "print(y_train.shape)\n",
        "print(y_test.shape)"
      ],
      "metadata": {
        "colab": {
          "base_uri": "https://localhost:8080/"
        },
        "id": "oU1UJgb-SJC_",
        "outputId": "142f1647-e51f-442d-8d06-292767075ff4"
      },
      "execution_count": null,
      "outputs": [
        {
          "output_type": "stream",
          "name": "stdout",
          "text": [
            "(569, 30)\n",
            "(569,)\n",
            "(426,)\n",
            "(143,)\n"
          ]
        }
      ]
    },
    {
      "cell_type": "code",
      "execution_count": null,
      "metadata": {
        "colab": {
          "base_uri": "https://localhost:8080/"
        },
        "id": "nXMTHOcuDn-3",
        "outputId": "3f877639-1768-4831-c54a-aa5a286f31b0"
      },
      "outputs": [
        {
          "output_type": "stream",
          "name": "stdout",
          "text": [
            "L1: 0.93\n",
            "L2: 0.85\n",
            "L3: 0.9\n",
            "L4: 0.93\n",
            "F1-score(L1): 0.95\n",
            "F1-score(L2): 0.88\n",
            "F1-score(L3): 0.92\n",
            "F1-score(L4): 0.94\n"
          ]
        }
      ],
      "source": [
        "# Instantiate the learners (classifiers)\n",
        "learner_1 = neighbors.KNeighborsClassifier(n_neighbors=5)\n",
        "learner_2 = linear_model.Perceptron(tol=1e-2, random_state=0)\n",
        "learner_3 = svm.SVC(kernel='rbf', probability=True, gamma=0.001)  #kernel='poly' or 'rbf'\n",
        "learner_4 = MLPClassifier(hidden_layer_sizes=(50,10), max_iter=300,activation = 'logistic',solver='adam',random_state=42) # how many trianable parameters?\n",
        "\n",
        "# Fit classifier with the training data. (try a pipeline instead of the model)\n",
        "learner_1.fit(x_train, y_train)\n",
        "learner_2.fit(x_train, y_train)\n",
        "learner_3.fit(x_train, y_train)\n",
        "learner_4.fit(x_train, y_train)\n",
        "\n",
        "# Get the base learner predictions\n",
        "predictions_1 = learner_1.predict(x_test)\n",
        "predictions_2 = learner_2.predict(x_test)\n",
        "predictions_3 = learner_3.predict(x_test)\n",
        "predictions_4 = learner_4.predict(x_test)\n",
        "\n",
        "# Accuracies of base learners\n",
        "print('L1:', np.round(accuracy_score(y_test, predictions_1),2))\n",
        "print('L2:', np.round(accuracy_score(y_test, predictions_2),2))\n",
        "print('L3:', np.round(accuracy_score(y_test, predictions_3),2))\n",
        "print('L4:', np.round(accuracy_score(y_test, predictions_4),2))\n",
        "\n",
        "print('F1-score(L1):', np.round(f1_score(y_test, predictions_1),2))\n",
        "print('F1-score(L2):', np.round(f1_score(y_test, predictions_2),2))\n",
        "print('F1-score(L3):', np.round(f1_score(y_test, predictions_3),2))\n",
        "print('F1-score(L4):', np.round(f1_score(y_test, predictions_4),2))\n"
      ]
    },
    {
      "cell_type": "code",
      "source": [
        "##initial a project for record\n",
        "#wandb.init(project=\"Voting_classifier\")\n",
        "#config = wandb.config\n",
        "\n",
        "# create a voting classifier with hard voting: select odd number of individual models to avoid not having equal votes\n",
        "voting_hard_classifier = VotingClassifier(estimators = [('KNN', learner_1),\n",
        "                                                        #('Perc', learner_2),\n",
        "                                                        ('SVM',  learner_3),\n",
        "                                                        ('MLP', learner_4)\n",
        "                                                        ],voting='hard', weights=[1,1,1])\n",
        "\n",
        "# Fit classifier with the training data\n",
        "voting_hard_classifier.fit(x_train, y_train)\n",
        "\n",
        "# Predict the most voted class (most probable class)\n",
        "hard_predictions = voting_hard_classifier.predict(x_test)\n",
        "print('Missclassified: ', np.abs(y_test-hard_predictions).sum())\n",
        "\n",
        "err = np.sum(y_test!=hard_predictions)/y_test.shape[0]      #number of missclassified cases\n",
        "print(np.sum(y_test!=hard_predictions))\n",
        "print(y_test.shape)\n",
        "print(err*100)\n",
        "print((1-err)*100)\n",
        "\n",
        "# Evaluate both models\n",
        "print('-'*30)\n",
        "print('Hard voting:', accuracy_score(y_test, hard_predictions, normalize = True))\n",
        "print(voting_hard_classifier.classes_)\n",
        "cm = confusion_matrix(y_test, hard_predictions)\n",
        "disp = ConfusionMatrixDisplay(confusion_matrix=cm, display_labels=voting_hard_classifier.classes_)\n",
        "#plot_confusion_matrix(voting_hard_classifier, x_test, y_test, cmap=plt.cm.Blues)\n",
        "disp.plot()\n",
        "#plt.show()\n",
        "\n",
        "#wandb.log({\"acc\":hard_predictions})"
      ],
      "metadata": {
        "colab": {
          "base_uri": "https://localhost:8080/",
          "height": 435
        },
        "id": "OOa8J3YSSXDH",
        "outputId": "d216c86e-ea6a-41f1-839a-78a2e40bf17f"
      },
      "execution_count": null,
      "outputs": [
        {
          "output_type": "stream",
          "name": "stdout",
          "text": [
            "Missclassified:  11\n",
            "11\n",
            "(143,)\n",
            "7.6923076923076925\n",
            "92.3076923076923\n",
            "------------------------------\n",
            "Hard voting: 0.9230769230769231\n",
            "[0 1]\n"
          ]
        },
        {
          "output_type": "execute_result",
          "data": {
            "text/plain": [
              "<sklearn.metrics._plot.confusion_matrix.ConfusionMatrixDisplay at 0x7f732543f5b0>"
            ]
          },
          "metadata": {},
          "execution_count": 5
        },
        {
          "output_type": "display_data",
          "data": {
            "text/plain": [
              "<Figure size 432x288 with 2 Axes>"
            ],
            "image/png": "[encoded data removed]"
          },
          "metadata": {
            "needs_background": "light"
          }
        }
      ]
    },
    {
      "cell_type": "code",
      "source": [
        "# compare between base learners and the hard_voter\n",
        "print('Model1:\\n',np.abs(y_test-predictions_1))\n",
        "#print('Missclassified: ', np.abs(y_test-predictions_1).sum())\n",
        "print('Model2:\\n',np.abs(y_test-predictions_2))\n",
        "#print('Missclassified: ', np.abs(y_test-predictions_2).sum())\n",
        "print('Model3:\\n',np.abs(y_test-predictions_3))\n",
        "#print('Missclassified: ', np.abs(y_test-predictions_3).sum())\n",
        "#print('Model4:\\n',np.abs(y_test-predictions_4))\n",
        "#print('Missclassified: ', np.abs(y_test-predictions_4).sum())\n",
        "print('L1:\\n', predictions_1)\n",
        "print('L2:\\n', predictions_2)\n",
        "print('L3:\\n', predictions_3)\n",
        "print('L4:\\n', predictions_4)\n",
        "\n",
        "print('Hard_predictions:\\n', hard_predictions)\n",
        "print('\\n',np.abs(y_test-hard_predictions))\n"
      ],
      "metadata": {
        "id": "f-sFSyWoqgEr",
        "outputId": "8187bf08-f930-447a-c17e-51447b3233e7",
        "colab": {
          "base_uri": "https://localhost:8080/"
        }
      },
      "execution_count": null,
      "outputs": [
        {
          "output_type": "stream",
          "name": "stdout",
          "text": [
            "Model1:\n",
            " [0 0 0 0 1 0 0 0 0 0 0 0 0 0 0 0 0 1 0 0 0 0 0 0 0 0 0 0 0 0 0 0 0 0 0 0 0\n",
            " 0 0 0 0 0 0 0 1 0 0 0 0 0 0 0 0 0 0 1 0 0 0 0 0 0 1 0 0 0 0 0 0 0 0 0 0 0\n",
            " 0 0 0 0 0 0 0 0 0 0 0 0 0 0 0 0 0 0 1 0 0 0 0 0 0 0 0 0 0 0 0 0 0 0 0 0 0\n",
            " 0 0 1 0 0 0 0 1 0 0 0 0 0 0 0 0 0 0 0 1 0 0 1 0 0 0 0 0 0 0 0 0]\n",
            "Model2:\n",
            " [0 0 0 1 1 0 0 0 0 0 1 0 0 0 1 0 0 1 0 0 0 0 1 0 0 0 0 0 0 0 0 0 0 0 0 0 0\n",
            " 0 0 0 0 0 0 1 1 0 0 0 0 0 0 0 0 0 0 1 0 0 0 0 0 0 1 0 0 1 0 0 1 0 0 0 0 0\n",
            " 0 0 0 0 0 0 0 0 0 0 0 1 0 0 0 0 0 0 1 0 0 0 0 0 0 0 0 0 0 0 0 0 1 0 0 0 0\n",
            " 0 1 1 0 0 1 0 0 0 0 0 0 0 0 0 0 0 0 0 1 0 0 1 0 0 0 0 1 0 0 0 0]\n",
            "Model3:\n",
            " [0 0 0 1 1 0 0 0 0 0 0 0 0 0 1 0 0 1 0 0 0 0 0 0 0 0 0 0 0 0 0 0 0 0 0 0 0\n",
            " 0 0 0 0 0 0 0 1 0 0 0 0 0 0 0 0 0 0 1 0 0 0 0 0 0 0 0 0 1 0 1 0 0 0 0 0 0\n",
            " 0 0 0 0 0 0 0 0 0 0 0 0 0 0 0 0 0 0 1 0 0 0 0 0 0 0 0 0 0 1 0 0 0 0 0 0 0\n",
            " 0 0 0 0 0 0 0 1 0 0 0 0 0 0 0 0 0 1 0 1 0 0 1 0 0 0 0 0 0 0 0 0]\n",
            "L1:\n",
            " [1 0 1 1 1 0 0 0 0 1 1 1 0 0 1 1 0 1 1 1 0 0 1 1 1 1 1 1 1 0 1 1 1 1 1 1 1\n",
            " 1 0 1 0 1 0 1 0 1 0 1 0 1 1 1 1 0 1 0 1 0 0 0 1 0 1 0 1 1 0 1 1 1 1 1 1 1\n",
            " 1 0 0 0 0 1 1 1 1 1 0 1 0 1 1 1 1 0 0 1 0 0 0 1 0 1 0 0 0 1 1 0 1 1 0 1 0\n",
            " 1 1 1 1 0 1 1 1 0 1 1 0 1 0 1 1 0 1 1 0 1 1 1 0 0 1 1 1 1 1 1 1]\n",
            "L2:\n",
            " [1 0 1 0 1 0 0 0 0 1 0 1 0 0 0 1 0 1 1 1 0 0 0 1 1 1 1 1 1 0 1 1 1 1 1 1 1\n",
            " 1 0 1 0 1 0 0 0 1 0 1 0 1 1 1 1 0 1 0 1 0 0 0 1 0 1 0 1 0 0 1 0 1 1 1 1 1\n",
            " 1 0 0 0 0 1 1 1 1 1 0 0 0 1 1 1 1 0 0 1 0 0 0 1 0 1 0 0 0 1 1 0 0 1 0 1 0\n",
            " 1 0 1 1 0 0 1 0 0 1 1 0 1 0 1 1 0 1 1 0 1 1 1 0 0 1 1 0 1 1 1 1]\n",
            "L3:\n",
            " [1 0 1 0 1 0 0 0 0 1 1 1 0 0 0 1 0 1 1 1 0 0 1 1 1 1 1 1 1 0 1 1 1 1 1 1 1\n",
            " 1 0 1 0 1 0 1 0 1 0 1 0 1 1 1 1 0 1 0 1 0 0 0 1 0 0 0 1 0 0 0 1 1 1 1 1 1\n",
            " 1 0 0 0 0 1 1 1 1 1 0 1 0 1 1 1 1 0 0 1 0 0 0 1 0 1 0 0 0 0 1 0 1 1 0 1 0\n",
            " 1 1 0 1 0 1 1 1 0 1 1 0 1 0 1 1 0 0 1 0 1 1 1 0 0 1 1 1 1 1 1 1]\n",
            "L4:\n",
            " [1 0 1 1 1 0 0 0 0 1 0 1 0 0 1 1 0 1 1 1 0 0 1 1 1 1 1 1 1 0 1 1 1 1 1 1 1\n",
            " 1 0 1 0 1 0 1 1 1 0 1 0 1 1 1 1 0 1 1 1 0 0 0 1 0 1 0 1 0 0 1 1 1 1 1 1 1\n",
            " 1 0 0 0 0 1 1 1 1 1 0 1 0 1 1 1 1 0 0 1 0 0 0 1 0 1 0 0 0 1 1 0 0 1 0 1 0\n",
            " 1 1 1 1 0 1 1 0 0 1 1 0 1 0 1 1 0 1 1 0 1 1 1 0 0 1 1 1 1 1 1 1]\n",
            "Hard_predictions:\n",
            " [1 0 1 0 1 0 0 0 0 1 1 1 0 0 0 1 0 1 1 1 0 0 1 1 1 1 1 1 1 0 1 1 1 1 1 1 1\n",
            " 1 0 1 0 1 0 1 0 1 0 1 0 1 1 1 1 0 1 0 1 0 0 0 1 0 1 0 1 0 0 1 1 1 1 1 1 1\n",
            " 1 0 0 0 0 1 1 1 1 1 0 1 0 1 1 1 1 0 0 1 0 0 0 1 0 1 0 0 0 1 1 0 1 1 0 1 0\n",
            " 1 1 1 1 0 1 1 1 0 1 1 0 1 0 1 1 0 1 1 0 1 1 1 0 0 1 1 1 1 1 1 1]\n",
            "\n",
            " [0 0 0 1 1 0 0 0 0 0 0 0 0 0 1 0 0 1 0 0 0 0 0 0 0 0 0 0 0 0 0 0 0 0 0 0 0\n",
            " 0 0 0 0 0 0 0 1 0 0 0 0 0 0 0 0 0 0 1 0 0 0 0 0 0 1 0 0 1 0 0 0 0 0 0 0 0\n",
            " 0 0 0 0 0 0 0 0 0 0 0 0 0 0 0 0 0 0 1 0 0 0 0 0 0 0 0 0 0 0 0 0 0 0 0 0 0\n",
            " 0 0 1 0 0 0 0 1 0 0 0 0 0 0 0 0 0 0 0 1 0 0 1 0 0 0 0 0 0 0 0 0]\n"
          ]
        }
      ]
    },
    {
      "cell_type": "code",
      "source": [
        "# create a voting classifier with soft voting\n",
        "classifiers = [('KNN', learner_1),('SVM',  learner_3), ('MLP', learner_4)]\n",
        "voting_soft_classifier = VotingClassifier(estimators = classifiers, voting='soft', weights=[1.0,1.0,1.0])\n",
        "\n",
        "voting_soft_classifier.fit(x_train, y_train)\n",
        "\n",
        "soft_predictions = voting_soft_classifier.predict(x_test)\n",
        "\n",
        "#print(np.c_[y_test, soft_predictions])\n",
        "print('Soft voting:', accuracy_score(y_test, soft_predictions))\n",
        "\n",
        "confusion_matrix(y_test, soft_predictions)\n",
        "print(classification_report(y_test, soft_predictions))\n",
        "\n",
        "#plot_confusion_matrix(voting_soft_classifier, x_test, y_test, cmap=plt.cm.Blues)\n",
        "ConfusionMatrixDisplay.from_estimator(voting_hard_classifier, x_test, y_test, cmap=plt.cm.Blues)\n",
        "plt.show()"
      ],
      "metadata": {
        "colab": {
          "base_uri": "https://localhost:8080/",
          "height": 453
        },
        "id": "j3ErQZEmSf4t",
        "outputId": "45fad5f3-1bf0-4239-8cee-1922148d5300"
      },
      "execution_count": null,
      "outputs": [
        {
          "output_type": "stream",
          "name": "stdout",
          "text": [
            "Soft voting: 0.9230769230769231\n",
            "              precision    recall  f1-score   support\n",
            "\n",
            "           0       0.90      0.89      0.90        53\n",
            "           1       0.93      0.94      0.94        90\n",
            "\n",
            "    accuracy                           0.92       143\n",
            "   macro avg       0.92      0.92      0.92       143\n",
            "weighted avg       0.92      0.92      0.92       143\n",
            "\n"
          ]
        },
        {
          "output_type": "display_data",
          "data": {
            "text/plain": [
              "<Figure size 432x288 with 2 Axes>"
            ],
            "image/png": "[encoded data removed]"
          },
          "metadata": {
            "needs_background": "light"
          }
        }
      ]
    }
  ]
}