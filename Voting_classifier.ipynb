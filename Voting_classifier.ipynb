{
  "nbformat": 4,
  "nbformat_minor": 0,
  "metadata": {
    "colab": {
      "provenance": [],
      "collapsed_sections": [],
      "authorship_tag": "ABX9TyMqwyRcxQm1397OifmWoS//",
      "include_colab_link": true
    },
    "kernelspec": {
      "name": "python3",
      "display_name": "Python 3"
    },
    "language_info": {
      "name": "python"
    },
    "accelerator": "GPU"
  },
  "cells": [
    {
      "cell_type": "markdown",
      "metadata": {
        "id": "view-in-github",
        "colab_type": "text"
      },
      "source": [
        "<a href=\"https://colab.research.google.com/github/ibribr/DT8807/blob/master/Voting_classifier.ipynb\" target=\"_parent\"><img src=\"https://colab.research.google.com/assets/colab-badge.svg\" alt=\"Open In Colab\"/></a>"
      ]
    },
    {
      "cell_type": "code",
      "source": [
        "# implement hard and soft voting classifier\n",
        "\n",
        "# Import the required libraries\n",
        "import numpy as np\n",
        "from sklearn import datasets, linear_model, svm, neighbors\n",
        "from sklearn.neural_network import MLPClassifier\n",
        "from sklearn.model_selection import train_test_split\n",
        "# import the voting classifier\n",
        "from sklearn.ensemble import VotingClassifier\n",
        "# import the voting regressor\n",
        "from sklearn.ensemble import VotingRegressor\n",
        "from sklearn.metrics import accuracy_score, confusion_matrix, plot_confusion_matrix, classification_report\n",
        "import matplotlib.pyplot as plt"
      ],
      "metadata": {
        "id": "K0nM8jBTSBHy"
      },
      "execution_count": 1,
      "outputs": []
    },
    {
      "cell_type": "code",
      "source": [
        "# Load the dataset\n",
        "breast_cancer = datasets.load_breast_cancer()\n",
        "x, y = breast_cancer.data, breast_cancer.target\n",
        "\n",
        "print(x.shape)\n",
        "print(y.shape)\n",
        "\n",
        "# Split the train and test samples\n",
        "test_samples = 100\n",
        "x_train, y_train = x[:-test_samples], y[:-test_samples]\n",
        "x_test, y_test = x[-test_samples:], y[-test_samples:]\n",
        "\n",
        "# split data into training and testing sets\n",
        "x_train, x_test, y_train, y_test = train_test_split(x, y, test_size=0.25, random_state=42, stratify=y)"
      ],
      "metadata": {
        "colab": {
          "base_uri": "https://localhost:8080/"
        },
        "id": "oU1UJgb-SJC_",
        "outputId": "ec2e1f92-8396-46dc-bf59-9fa86754f72b"
      },
      "execution_count": 2,
      "outputs": [
        {
          "output_type": "stream",
          "name": "stdout",
          "text": [
            "(569, 30)\n",
            "(569,)\n"
          ]
        }
      ]
    },
    {
      "cell_type": "code",
      "execution_count": 3,
      "metadata": {
        "colab": {
          "base_uri": "https://localhost:8080/"
        },
        "id": "nXMTHOcuDn-3",
        "outputId": "de256e46-131b-4787-e364-acef5bb1afc4"
      },
      "outputs": [
        {
          "output_type": "stream",
          "name": "stdout",
          "text": [
            "L1: 0.9300699300699301\n",
            "L2: 0.8531468531468531\n",
            "L3: 0.9230769230769231\n",
            "L4: 0.9300699300699301\n"
          ]
        }
      ],
      "source": [
        "# Instantiate the learners (classifiers)\n",
        "learner_1 = neighbors.KNeighborsClassifier(n_neighbors=5)\n",
        "learner_2 = linear_model.Perceptron(tol=1e-2, random_state=0)\n",
        "learner_3 = svm.SVC(kernel='poly', probability=True, gamma=0.001)\n",
        "learner_4 = MLPClassifier(hidden_layer_sizes=(50,10), max_iter=300,activation = 'logistic',solver='adam',random_state=42)\n",
        "\n",
        "# Fit classifier with the training data\n",
        "learner_1.fit(x_train, y_train)\n",
        "learner_2.fit(x_train, y_train)\n",
        "learner_3.fit(x_train, y_train)\n",
        "learner_4.fit(x_train, y_train)\n",
        "\n",
        "# Get the base learner predictions\n",
        "predictions_1 = learner_1.predict(x_test)\n",
        "predictions_2 = learner_2.predict(x_test)\n",
        "predictions_3 = learner_3.predict(x_test)\n",
        "predictions_4 = learner_4.predict(x_test)\n",
        "\n",
        "# Accuracies of base learners\n",
        "print('L1:', accuracy_score(y_test, predictions_1))\n",
        "print('L2:', accuracy_score(y_test, predictions_2))\n",
        "print('L3:', accuracy_score(y_test, predictions_3))\n",
        "print('L4:', accuracy_score(y_test, predictions_4))"
      ]
    },
    {
      "cell_type": "code",
      "source": [
        "# create a voting classifier with hard voting\n",
        "voting_hard_classifier = VotingClassifier(estimators = [('KNN', learner_1),\n",
        "                                                        ('Perc', learner_2),\n",
        "                                                        ('SVM',  learner_3),\n",
        "                                                        ('MLP', learner_4)], voting='hard', weights=[1,1,1,2])\n",
        "\n",
        "# Fit classifier with the training data\n",
        "voting_hard_classifier.fit(x_train, y_train)\n",
        "\n",
        "# Predict the most voted class (most probable class)\n",
        "hard_predictions = voting_hard_classifier.predict(x_test)\n",
        "\n",
        "# Evaluate both models\n",
        "print('-'*30)\n",
        "print('Hard voting:', accuracy_score(y_test, hard_predictions))\n",
        "\n",
        "plot_confusion_matrix(voting_hard_classifier, x_test, y_test, cmap=plt.cm.Blues)\n",
        "plt.show()"
      ],
      "metadata": {
        "colab": {
          "base_uri": "https://localhost:8080/",
          "height": 368
        },
        "id": "OOa8J3YSSXDH",
        "outputId": "264e94eb-8369-4d14-cc8e-d0cf94628aa0"
      },
      "execution_count": 4,
      "outputs": [
        {
          "output_type": "stream",
          "name": "stdout",
          "text": [
            "------------------------------\n",
            "Hard voting: 0.9300699300699301\n"
          ]
        },
        {
          "output_type": "stream",
          "name": "stderr",
          "text": [
            "/usr/local/lib/python3.7/dist-packages/sklearn/utils/deprecation.py:87: FutureWarning: Function plot_confusion_matrix is deprecated; Function `plot_confusion_matrix` is deprecated in 1.0 and will be removed in 1.2. Use one of the class methods: ConfusionMatrixDisplay.from_predictions or ConfusionMatrixDisplay.from_estimator.\n",
            "  warnings.warn(msg, category=FutureWarning)\n"
          ]
        },
        {
          "output_type": "display_data",
          "data": {
            "text/plain": [
              "<Figure size 432x288 with 2 Axes>"
            ],
            "image/png": "[encoded data removed]"
          },
          "metadata": {
            "needs_background": "light"
          }
        }
      ]
    },
    {
      "cell_type": "code",
      "source": [
        "# create a voting classifier with soft voting\n",
        "classifiers = [('KNN', learner_1),('SVM',  learner_3), ('MLP', learner_4)]\n",
        "voting_soft_classifier = VotingClassifier(estimators = classifiers, voting='soft')\n",
        "\n",
        "voting_soft_classifier.fit(x_train, y_train)\n",
        "\n",
        "soft_predictions = voting_soft_classifier.predict(x_test)\n",
        "\n",
        "#print(np.c_[y_test, soft_predictions])\n",
        "print('Soft voting:', accuracy_score(y_test, soft_predictions))\n",
        "\n",
        "confusion_matrix(y_test, soft_predictions)\n",
        "print(classification_report(y_test, soft_predictions))\n",
        "\n",
        "plot_confusion_matrix(voting_soft_classifier, x_test, y_test, cmap=plt.cm.Blues)\n",
        "plt.show()"
      ],
      "metadata": {
        "colab": {
          "base_uri": "https://localhost:8080/",
          "height": 507
        },
        "id": "j3ErQZEmSf4t",
        "outputId": "c08a51e5-07a9-40a7-a047-24e1157e0131"
      },
      "execution_count": 7,
      "outputs": [
        {
          "output_type": "stream",
          "name": "stdout",
          "text": [
            "Soft voting: 0.9440559440559441\n",
            "              precision    recall  f1-score   support\n",
            "\n",
            "           0       0.96      0.89      0.92        53\n",
            "           1       0.94      0.98      0.96        90\n",
            "\n",
            "    accuracy                           0.94       143\n",
            "   macro avg       0.95      0.93      0.94       143\n",
            "weighted avg       0.94      0.94      0.94       143\n",
            "\n"
          ]
        },
        {
          "output_type": "stream",
          "name": "stderr",
          "text": [
            "/usr/local/lib/python3.7/dist-packages/sklearn/utils/deprecation.py:87: FutureWarning: Function plot_confusion_matrix is deprecated; Function `plot_confusion_matrix` is deprecated in 1.0 and will be removed in 1.2. Use one of the class methods: ConfusionMatrixDisplay.from_predictions or ConfusionMatrixDisplay.from_estimator.\n",
            "  warnings.warn(msg, category=FutureWarning)\n"
          ]
        },
        {
          "output_type": "display_data",
          "data": {
            "text/plain": [
              "<Figure size 432x288 with 2 Axes>"
            ],
            "image/png": "[encoded data removed]"
          },
          "metadata": {
            "needs_background": "light"
          }
        }
      ]
    }
  ]
}