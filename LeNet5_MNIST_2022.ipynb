{
  "nbformat": 4,
  "nbformat_minor": 0,
  "metadata": {
    "colab": {
      "name": "LeNet5_MNIST_2022.ipynb",
      "provenance": [],
      "collapsed_sections": [],
      "authorship_tag": "ABX9TyNOaakkFs5e3RDJXFlBhdSX",
      "include_colab_link": true
    },
    "kernelspec": {
      "name": "python3",
      "display_name": "Python 3"
    },
    "accelerator": "GPU"
  },
  "cells": [
    {
      "cell_type": "markdown",
      "metadata": {
        "id": "view-in-github",
        "colab_type": "text"
      },
      "source": [
        "<a href=\"https://colab.research.google.com/github/ibribr/DT8807/blob/master/LeNet5_MNIST_2022.ipynb\" target=\"_parent\"><img src=\"https://colab.research.google.com/assets/colab-badge.svg\" alt=\"Open In Colab\"/></a>"
      ]
    },
    {
      "cell_type": "code",
      "metadata": {
        "id": "xu3qb8KZ-rmY"
      },
      "source": [
        "import numpy as np\n",
        "import matplotlib.pyplot as plt\n",
        "from matplotlib.colors import ListedColormap\n",
        "from keras.datasets.mnist import load_data\n",
        "from tensorflow.keras.utils import to_categorical\n",
        "from keras.models import Sequential\n",
        "from keras.layers import Conv2D, AveragePooling2D, Flatten, Dense\n",
        "from sklearn.metrics import confusion_matrix"
      ],
      "execution_count": 1,
      "outputs": []
    },
    {
      "cell_type": "code",
      "metadata": {
        "id": "5TtaPJJB_X3V",
        "outputId": "e7eafa78-2018-4377-9b64-ab3b616d0fa4",
        "colab": {
          "base_uri": "https://localhost:8080/"
        }
      },
      "source": [
        "(xtrain, ytrain), (xtest, ytest) = load_data()\n",
        "xtrain = xtrain.astype('float32') /255.\n",
        "xtest = xtest.astype('float32') /255.\n",
        "print(ytrain[10])\n",
        "ytrain = to_categorical(ytrain)   #one hot encoding\n",
        "ytest = to_categorical(ytest)\n",
        "print(ytrain[10])\n",
        "\n",
        "print('Original Dimensions : ',xtrain.shape)\n",
        "\n",
        "xtrain = np.expand_dims(xtrain, axis=3)\n",
        "xtest = np.expand_dims(xtest, axis=3)\n",
        "\n",
        "print(xtrain.shape)"
      ],
      "execution_count": 2,
      "outputs": [
        {
          "output_type": "stream",
          "name": "stdout",
          "text": [
            "Downloading data from https://storage.googleapis.com/tensorflow/tf-keras-datasets/mnist.npz\n",
            "11493376/11490434 [==============================] - 0s 0us/step\n",
            "11501568/11490434 [==============================] - 0s 0us/step\n",
            "3\n",
            "[0. 0. 0. 1. 0. 0. 0. 0. 0. 0.]\n",
            "Original Dimensions :  (60000, 28, 28)\n",
            "(60000, 28, 28, 1)\n"
          ]
        }
      ]
    },
    {
      "cell_type": "code",
      "metadata": {
        "id": "Rf1MYiefALGW",
        "outputId": "cdc531e7-18c3-4e38-daab-05f01ad68302",
        "colab": {
          "base_uri": "https://localhost:8080/"
        }
      },
      "source": [
        "model = Sequential()\n",
        "model.add(Conv2D(filters=6, kernel_size = 5, strides = 1, activation = 'tanh', input_shape = (28, 28, 1), padding = 'same'))\n",
        "model.add(AveragePooling2D(pool_size = 2, strides = 2, padding = 'valid'))\n",
        "model.add(Conv2D(filters=16, kernel_size = 5, strides = 1, activation = 'tanh', padding = 'valid'))\n",
        "model.add(AveragePooling2D(pool_size = 2, strides = 2, padding = 'valid'))\n",
        "model.add(Conv2D(filters = 120, kernel_size = 5, strides = 1, activation = 'tanh', padding = 'valid'))\n",
        "model.add(Flatten())\n",
        "model.add(Dense(units = 84, activation = 'tanh', ))\n",
        "model.add(Dense(units = 10, activation = 'softmax'))\n",
        "\n",
        "model.summary()"
      ],
      "execution_count": 3,
      "outputs": [
        {
          "output_type": "stream",
          "name": "stdout",
          "text": [
            "Model: \"sequential\"\n",
            "_________________________________________________________________\n",
            " Layer (type)                Output Shape              Param #   \n",
            "=================================================================\n",
            " conv2d (Conv2D)             (None, 28, 28, 6)         156       \n",
            "                                                                 \n",
            " average_pooling2d (AverageP  (None, 14, 14, 6)        0         \n",
            " ooling2D)                                                       \n",
            "                                                                 \n",
            " conv2d_1 (Conv2D)           (None, 10, 10, 16)        2416      \n",
            "                                                                 \n",
            " average_pooling2d_1 (Averag  (None, 5, 5, 16)         0         \n",
            " ePooling2D)                                                     \n",
            "                                                                 \n",
            " conv2d_2 (Conv2D)           (None, 1, 1, 120)         48120     \n",
            "                                                                 \n",
            " flatten (Flatten)           (None, 120)               0         \n",
            "                                                                 \n",
            " dense (Dense)               (None, 84)                10164     \n",
            "                                                                 \n",
            " dense_1 (Dense)             (None, 10)                850       \n",
            "                                                                 \n",
            "=================================================================\n",
            "Total params: 61,706\n",
            "Trainable params: 61,706\n",
            "Non-trainable params: 0\n",
            "_________________________________________________________________\n"
          ]
        }
      ]
    },
    {
      "cell_type": "code",
      "metadata": {
        "id": "A4RTnbuYEFNT",
        "outputId": "4432b495-3b5b-4f88-8d0a-45b5e0713d7d",
        "colab": {
          "base_uri": "https://localhost:8080/"
        }
      },
      "source": [
        "model.compile(loss='categorical_crossentropy', optimizer='sgd', metrics=['accuracy'])\n",
        "hist = model.fit(xtrain, ytrain, batch_size=32, epochs=20, validation_data=(xtest, ytest), verbose=2, shuffle=True)"
      ],
      "execution_count": 8,
      "outputs": [
        {
          "output_type": "stream",
          "name": "stdout",
          "text": [
            "Epoch 1/20\n",
            "1875/1875 - 17s - loss: 0.6044 - accuracy: 0.8424 - val_loss: 0.2926 - val_accuracy: 0.9176 - 17s/epoch - 9ms/step\n",
            "Epoch 2/20\n",
            "1875/1875 - 8s - loss: 0.2584 - accuracy: 0.9247 - val_loss: 0.2055 - val_accuracy: 0.9389 - 8s/epoch - 4ms/step\n",
            "Epoch 3/20\n",
            "1875/1875 - 8s - loss: 0.1925 - accuracy: 0.9430 - val_loss: 0.1593 - val_accuracy: 0.9538 - 8s/epoch - 4ms/step\n",
            "Epoch 4/20\n",
            "1875/1875 - 8s - loss: 0.1506 - accuracy: 0.9547 - val_loss: 0.1267 - val_accuracy: 0.9639 - 8s/epoch - 4ms/step\n",
            "Epoch 5/20\n",
            "1875/1875 - 8s - loss: 0.1223 - accuracy: 0.9637 - val_loss: 0.1054 - val_accuracy: 0.9679 - 8s/epoch - 4ms/step\n",
            "Epoch 6/20\n",
            "1875/1875 - 8s - loss: 0.1030 - accuracy: 0.9701 - val_loss: 0.0907 - val_accuracy: 0.9721 - 8s/epoch - 4ms/step\n",
            "Epoch 7/20\n",
            "1875/1875 - 8s - loss: 0.0892 - accuracy: 0.9740 - val_loss: 0.0819 - val_accuracy: 0.9736 - 8s/epoch - 4ms/step\n",
            "Epoch 8/20\n",
            "1875/1875 - 8s - loss: 0.0790 - accuracy: 0.9768 - val_loss: 0.0726 - val_accuracy: 0.9772 - 8s/epoch - 4ms/step\n",
            "Epoch 9/20\n",
            "1875/1875 - 12s - loss: 0.0710 - accuracy: 0.9797 - val_loss: 0.0646 - val_accuracy: 0.9800 - 12s/epoch - 6ms/step\n",
            "Epoch 10/20\n",
            "1875/1875 - 8s - loss: 0.0649 - accuracy: 0.9807 - val_loss: 0.0596 - val_accuracy: 0.9812 - 8s/epoch - 4ms/step\n",
            "Epoch 11/20\n",
            "1875/1875 - 10s - loss: 0.0593 - accuracy: 0.9823 - val_loss: 0.0569 - val_accuracy: 0.9817 - 10s/epoch - 6ms/step\n",
            "Epoch 12/20\n",
            "1875/1875 - 9s - loss: 0.0550 - accuracy: 0.9837 - val_loss: 0.0516 - val_accuracy: 0.9834 - 9s/epoch - 5ms/step\n",
            "Epoch 13/20\n",
            "1875/1875 - 10s - loss: 0.0513 - accuracy: 0.9846 - val_loss: 0.0513 - val_accuracy: 0.9832 - 10s/epoch - 6ms/step\n",
            "Epoch 14/20\n",
            "1875/1875 - 9s - loss: 0.0484 - accuracy: 0.9858 - val_loss: 0.0471 - val_accuracy: 0.9842 - 9s/epoch - 5ms/step\n",
            "Epoch 15/20\n",
            "1875/1875 - 8s - loss: 0.0455 - accuracy: 0.9864 - val_loss: 0.0471 - val_accuracy: 0.9840 - 8s/epoch - 4ms/step\n",
            "Epoch 16/20\n",
            "1875/1875 - 8s - loss: 0.0433 - accuracy: 0.9869 - val_loss: 0.0440 - val_accuracy: 0.9855 - 8s/epoch - 4ms/step\n",
            "Epoch 17/20\n",
            "1875/1875 - 8s - loss: 0.0408 - accuracy: 0.9879 - val_loss: 0.0424 - val_accuracy: 0.9875 - 8s/epoch - 4ms/step\n",
            "Epoch 18/20\n",
            "1875/1875 - 8s - loss: 0.0390 - accuracy: 0.9882 - val_loss: 0.0417 - val_accuracy: 0.9871 - 8s/epoch - 4ms/step\n",
            "Epoch 19/20\n",
            "1875/1875 - 8s - loss: 0.0370 - accuracy: 0.9889 - val_loss: 0.0399 - val_accuracy: 0.9872 - 8s/epoch - 4ms/step\n",
            "Epoch 20/20\n",
            "1875/1875 - 8s - loss: 0.0354 - accuracy: 0.9895 - val_loss: 0.0392 - val_accuracy: 0.9877 - 8s/epoch - 4ms/step\n"
          ]
        }
      ]
    },
    {
      "cell_type": "code",
      "metadata": {
        "id": "oJW2MfnkQzmH",
        "outputId": "4213e543-3b73-45df-ceb1-60c05b0a5385",
        "colab": {
          "base_uri": "https://localhost:8080/",
          "height": 677
        }
      },
      "source": [
        "print(hist.history.keys())\n",
        "loss = hist.history['loss']\n",
        "print(np.mean(loss))\n",
        "accuracy = hist.history['accuracy']\n",
        "val_loss = hist.history['val_loss']\n",
        "val_accuracy = hist.history['val_accuracy']\n",
        "\n",
        "print('Training and validation loss    : ', np.mean(loss), np.mean(val_loss))\n",
        "print('Training and validation accuracy: ', np.mean(accuracy), np.mean(val_accuracy))\n",
        "\n",
        "ypred = model.predict(xtest)\n",
        "score = model.evaluate(xtest, ytest)\n",
        "print('accuracy :', score)\n",
        "\n",
        "epochs = range(1, len(loss)+1)\n",
        "\n",
        "plt.figure()\n",
        "plt.plot(epochs, loss, 'bo', label='Training loss')\n",
        "plt.plot(epochs, val_loss, 'b', label='Validation loss')\n",
        "plt.title('Training and validation loss')\n",
        "plt.xlabel('Epochs')\n",
        "plt.ylabel('Loss')\n",
        "plt.legend()\n",
        "plt.grid()\n",
        "\n",
        "plt.figure()\n",
        "plt.plot(epochs, accuracy, 'bo', label='Training accuracy')\n",
        "plt.plot(epochs, val_accuracy, 'b', label='Validation accuracy')\n",
        "plt.title('Training and validation accuracy')\n",
        "plt.xlabel('Epochs')\n",
        "plt.ylabel('Accuracy')\n",
        "plt.legend()\n",
        "plt.grid()"
      ],
      "execution_count": 9,
      "outputs": [
        {
          "output_type": "stream",
          "name": "stdout",
          "text": [
            "dict_keys(['loss', 'accuracy', 'val_loss', 'val_accuracy'])\n",
            "0.1095246547833085\n",
            "Training and validation loss    :  0.1095246547833085 0.0860023370012641\n",
            "Training and validation accuracy:  0.9687008291482926 0.9738849997520447\n",
            "313/313 [==============================] - 1s 4ms/step - loss: 0.0392 - accuracy: 0.9877\n",
            "accuracy : [0.039168670773506165, 0.9876999855041504]\n"
          ]
        },
        {
          "output_type": "display_data",
          "data": {
            "text/plain": [
              "<Figure size 432x288 with 1 Axes>"
            ],
            "image/png": "[encoded data removed]"
          },
          "metadata": {
            "needs_background": "light"
          }
        },
        {
          "output_type": "display_data",
          "data": {
            "text/plain": [
              "<Figure size 432x288 with 1 Axes>"
            ],
            "image/png": "[encoded data removed]"
          },
          "metadata": {
            "needs_background": "light"
          }
        }
      ]
    },
    {
      "cell_type": "code",
      "metadata": {
        "id": "HpPf-oPym5-M",
        "outputId": "6c6ef45e-54d9-4069-c1a6-e8fd49935dcc",
        "colab": {
          "base_uri": "https://localhost:8080/",
          "height": 330
        }
      },
      "source": [
        "print('Confusion Matrix')\n",
        "\n",
        "cmap = ListedColormap(['lightgrey', 'silver', 'ghostwhite', 'lavender', 'wheat'])\n",
        "\n",
        "cm = confusion_matrix(ytest.argmax(1), ypred.argmax(1))\n",
        "plt.figure()\n",
        "plt.matshow(cm, cmap=cmap)\n",
        "\n",
        "for i in range(cm.shape[0]):\n",
        "  for j in range(cm.shape[1]):\n",
        "    plt.text(x=j, y=i, s=cm[i,j], va='center', ha='center')\n",
        "  \n",
        "plt.title('Confusion matrix for test set')\n",
        "plt.xlabel('Predicted label')\n",
        "plt.ylabel('True label')\n",
        "plt.show()"
      ],
      "execution_count": null,
      "outputs": [
        {
          "output_type": "stream",
          "name": "stdout",
          "text": [
            "Confusion Matrix\n"
          ]
        },
        {
          "output_type": "display_data",
          "data": {
            "text/plain": [
              "<Figure size 432x288 with 0 Axes>"
            ]
          },
          "metadata": {}
        },
        {
          "output_type": "display_data",
          "data": {
            "text/plain": [
              "<Figure size 288x288 with 1 Axes>"
            ],
            "image/png": "[encoded data removed]"
          },
          "metadata": {
            "needs_background": "light"
          }
        }
      ]
    },
    {
      "cell_type": "code",
      "source": [
        "# how to get filter weights and biases\n",
        "for layer in model.layers:\n",
        "  print(layer.name)\n",
        "  if 'conv' not in layer.name:\n",
        "    continue\n",
        "  filters, biases = layer.get_weights()\n",
        "  print(layer.name, filters.shape)\n",
        "\n",
        "# retrive and display weights of the the filters of second conv layer\n",
        "print(model.layers[0].name)\n",
        "filters, biases = model.layers[0].get_weights()\n",
        "print(\"Filters/kernels:\",filters[:,:,:,0].reshape(5,5))\n",
        "print(\"Biases:\",biases)\n",
        "\n",
        "for i in range(6):\n",
        "  plt.subplot(2,3,1+i)\n",
        "  plt.imshow(filters[:,:,:,i].reshape(5,5))\n",
        "  plt.axis('off')\n",
        "plt.show()"
      ],
      "metadata": {
        "colab": {
          "base_uri": "https://localhost:8080/",
          "height": 560
        },
        "id": "6eMiCvwyl0Na",
        "outputId": "43b43828-4714-4a3a-f6c6-fc7f3606e0b5"
      },
      "execution_count": 24,
      "outputs": [
        {
          "output_type": "stream",
          "name": "stdout",
          "text": [
            "conv2d\n",
            "conv2d (5, 5, 1, 6)\n",
            "average_pooling2d\n",
            "conv2d_1\n",
            "conv2d_1 (5, 5, 6, 16)\n",
            "average_pooling2d_1\n",
            "conv2d_2\n",
            "conv2d_2 (5, 5, 16, 120)\n",
            "flatten\n",
            "dense\n",
            "dense_1\n",
            "conv2d\n",
            "Filters/kernels: [[ 0.21664658  0.3458335   0.18204084  0.36840224  0.32552743]\n",
            " [ 0.36909786  0.23652051  0.19179365 -0.00508444  0.13376027]\n",
            " [ 0.03633112 -0.14465208 -0.33280042 -0.00711299 -0.06016668]\n",
            " [-0.25060084 -0.47435653 -0.34999716 -0.2893341  -0.08812474]\n",
            " [-0.33325782 -0.5034181  -0.4454983  -0.4692649  -0.33553386]]\n",
            "Biases: [ 0.2836115  -0.1846702   0.0660912   0.46316585  0.47892585 -0.10905631]\n"
          ]
        },
        {
          "output_type": "display_data",
          "data": {
            "text/plain": [
              "<Figure size 432x288 with 6 Axes>"
            ],
            "image/png": "[encoded data removed]"
          },
          "metadata": {
            "needs_background": "light"
          }
        }
      ]
    }
  ]
}