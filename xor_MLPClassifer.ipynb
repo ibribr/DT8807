{
  "nbformat": 4,
  "nbformat_minor": 0,
  "metadata": {
    "colab": {
      "name": "xor_MLPClassifer.ipynb",
      "provenance": [],
      "collapsed_sections": [],
      "authorship_tag": "ABX9TyP57dAdmd6wqEq3WLrKh7D+",
      "include_colab_link": true
    },
    "kernelspec": {
      "name": "python3",
      "display_name": "Python 3"
    }
  },
  "cells": [
    {
      "cell_type": "markdown",
      "metadata": {
        "id": "view-in-github",
        "colab_type": "text"
      },
      "source": [
        "<a href=\"https://colab.research.google.com/github/ibribr/DT8807/blob/master/xor_MLPClassifer.ipynb\" target=\"_parent\"><img src=\"https://colab.research.google.com/assets/colab-badge.svg\" alt=\"Open In Colab\"/></a>"
      ]
    },
    {
      "cell_type": "code",
      "metadata": {
        "id": "X45XSsWpFyJm"
      },
      "source": [
        "import numpy as np\n",
        "import matplotlib.pyplot as plt\n",
        "from sklearn.neural_network import MLPClassifier\n",
        "from sklearn.metrics import confusion_matrix"
      ],
      "execution_count": null,
      "outputs": []
    },
    {
      "cell_type": "code",
      "metadata": {
        "id": "EygFTRjEF3Ie",
        "colab": {
          "base_uri": "https://localhost:8080/",
          "height": 640
        },
        "outputId": "f769c104-bcec-44fc-ed70-d328193e2c39"
      },
      "source": [
        "x = np.array([[0,0],[0,1],[1,0],[1,1]])\n",
        "y = np.array([0,1,1,0])\n",
        "\n",
        "model = MLPClassifier(activation='logistic',max_iter=100,hidden_layer_sizes=(2,),solver='lbfgs')\n",
        "model.fit(x, y)\n",
        "\n",
        "y_pred = model.predict(x)\n",
        "\n",
        "print('coefs', model.coefs_)\n",
        "print('predictions:', y_pred)\n",
        "\n",
        "error = np.sum(y != y_pred).mean() * 100\n",
        "print('Prediction error:', error)\n",
        "\n",
        "# plot decision line\n",
        "plt.figure()\n",
        "x1 = np.arange(-0.1, 1.1, 0.01)\n",
        "x1g, x2g=np.meshgrid(x1, x1)\n",
        "yg=model.predict( np.array([x1g.flatten(), x2g.flatten()]).T)\n",
        "plt.contourf(x1g, x2g, yg.reshape(x1g.shape))\n",
        "plt.scatter(x[:,0], x[:,1], c=y)\n",
        "plt.show()\n",
        "\n",
        "# confusion matrix\n",
        "cm =confusion_matrix(y, y_pred)\n",
        "plt.figure()\n",
        "plt.matshow(cm,cmap=plt.cm.Blues)\n",
        "for i in range(cm.shape[0]):\n",
        "  for j in range(cm.shape[1]):\n",
        "    plt.text(x=j, y=i, s=cm[i,j], va='center', ha='center')\n",
        "plt.xlabel('Predicated label')\n",
        "plt.ylabel('Acutal label')\n",
        "plt.show()"
      ],
      "execution_count": null,
      "outputs": [
        {
          "output_type": "stream",
          "name": "stdout",
          "text": [
            "coefs [array([[ 6.4674456 , -6.41408849],\n",
            "       [ 6.2355078 , -6.52432243]]), array([[14.41725725],\n",
            "       [14.35173895]])]\n",
            "predictions: [0 1 1 0]\n",
            "Prediction error: 0.0\n"
          ]
        },
        {
          "output_type": "display_data",
          "data": {
            "image/png": "[encoded data removed]",
            "text/plain": [
              "<Figure size 432x288 with 1 Axes>"
            ]
          },
          "metadata": {
            "needs_background": "light"
          }
        },
        {
          "output_type": "display_data",
          "data": {
            "text/plain": [
              "<Figure size 432x288 with 0 Axes>"
            ]
          },
          "metadata": {}
        },
        {
          "output_type": "display_data",
          "data": {
            "image/png": "[encoded data removed]",
            "text/plain": [
              "<Figure size 288x288 with 1 Axes>"
            ]
          },
          "metadata": {
            "needs_background": "light"
          }
        }
      ]
    }
  ]
}