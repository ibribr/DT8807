{
  "nbformat": 4,
  "nbformat_minor": 0,
  "metadata": {
    "colab": {
      "provenance": [],
      "authorship_tag": "ABX9TyMWCSU5YJ3YwGdg5z2AFh/k",
      "include_colab_link": true
    },
    "kernelspec": {
      "name": "python3",
      "display_name": "Python 3"
    },
    "language_info": {
      "name": "python"
    }
  },
  "cells": [
    {
      "cell_type": "markdown",
      "metadata": {
        "id": "view-in-github",
        "colab_type": "text"
      },
      "source": [
        "<a href=\"https://colab.research.google.com/github/ibribr/DT8807/blob/master/Stego_image.ipynb\" target=\"_parent\"><img src=\"https://colab.research.google.com/assets/colab-badge.svg\" alt=\"Open In Colab\"/></a>"
      ]
    },
    {
      "cell_type": "code",
      "source": [
        "pip install pillow"
      ],
      "metadata": {
        "colab": {
          "base_uri": "https://localhost:8080/"
        },
        "id": "E5Dqyw6ZK8OA",
        "outputId": "8efada65-8f84-4f80-ebcb-77fcca55d15f"
      },
      "execution_count": 1,
      "outputs": [
        {
          "output_type": "stream",
          "name": "stdout",
          "text": [
            "Requirement already satisfied: pillow in /usr/local/lib/python3.10/dist-packages (9.4.0)\n"
          ]
        }
      ]
    },
    {
      "cell_type": "code",
      "source": [
        "from google.colab import files\n",
        "from PIL import Image\n",
        "\n",
        "uploaded = files.upload()\n",
        "image_path = list(uploaded.keys())[0]  # Take the first uploaded file\n",
        "\n",
        "print(image_path)\n",
        "im = Image.open(image_path)\n",
        "w, h = im.size\n",
        "print('width:  ', w)\n",
        "print('height: ', h)"
      ],
      "metadata": {
        "colab": {
          "base_uri": "https://localhost:8080/",
          "height": 125
        },
        "id": "ZVOzuasTLPoO",
        "outputId": "efb65d1a-54dd-487e-cfcc-3e5cab4cbf76"
      },
      "execution_count": 1,
      "outputs": [
        {
          "output_type": "display_data",
          "data": {
            "text/plain": [
              "<IPython.core.display.HTML object>"
            ],
            "text/html": [
              "\n",
              "     <input type=\"file\" id=\"files-0d48d1b9-20ec-4489-850c-34bf3697b5d1\" name=\"files[]\" multiple disabled\n",
              "        style=\"border:none\" />\n",
              "     <output id=\"result-0d48d1b9-20ec-4489-850c-34bf3697b5d1\">\n",
              "      Upload widget is only available when the cell has been executed in the\n",
              "      current browser session. Please rerun this cell to enable.\n",
              "      </output>\n",
              "      <script>// Copyright 2017 Google LLC\n",
              "//\n",
              "// Licensed under the Apache License, Version 2.0 (the \"License\");\n",
              "// you may not use this file except in compliance with the License.\n",
              "// You may obtain a copy of the License at\n",
              "//\n",
              "//      http://www.apache.org/licenses/LICENSE-2.0\n",
              "//\n",
              "// Unless required by applicable law or agreed to in writing, software\n",
              "// distributed under the License is distributed on an \"AS IS\" BASIS,\n",
              "// WITHOUT WARRANTIES OR CONDITIONS OF ANY KIND, either express or implied.\n",
              "// See the License for the specific language governing permissions and\n",
              "// limitations under the License.\n",
              "\n",
              "/**\n",
              " * @fileoverview Helpers for google.colab Python module.\n",
              " */\n",
              "(function(scope) {\n",
              "function span(text, styleAttributes = {}) {\n",
              "  const element = document.createElement('span');\n",
              "  element.textContent = text;\n",
              "  for (const key of Object.keys(styleAttributes)) {\n",
              "    element.style[key] = styleAttributes[key];\n",
              "  }\n",
              "  return element;\n",
              "}\n",
              "\n",
              "// Max number of bytes which will be uploaded at a time.\n",
              "const MAX_PAYLOAD_SIZE = 100 * 1024;\n",
              "\n",
              "function _uploadFiles(inputId, outputId) {\n",
              "  const steps = uploadFilesStep(inputId, outputId);\n",
              "  const outputElement = document.getElementById(outputId);\n",
              "  // Cache steps on the outputElement to make it available for the next call\n",
              "  // to uploadFilesContinue from Python.\n",
              "  outputElement.steps = steps;\n",
              "\n",
              "  return _uploadFilesContinue(outputId);\n",
              "}\n",
              "\n",
              "// This is roughly an async generator (not supported in the browser yet),\n",
              "// where there are multiple asynchronous steps and the Python side is going\n",
              "// to poll for completion of each step.\n",
              "// This uses a Promise to block the python side on completion of each step,\n",
              "// then passes the result of the previous step as the input to the next step.\n",
              "function _uploadFilesContinue(outputId) {\n",
              "  const outputElement = document.getElementById(outputId);\n",
              "  const steps = outputElement.steps;\n",
              "\n",
              "  const next = steps.next(outputElement.lastPromiseValue);\n",
              "  return Promise.resolve(next.value.promise).then((value) => {\n",
              "    // Cache the last promise value to make it available to the next\n",
              "    // step of the generator.\n",
              "    outputElement.lastPromiseValue = value;\n",
              "    return next.value.response;\n",
              "  });\n",
              "}\n",
              "\n",
              "/**\n",
              " * Generator function which is called between each async step of the upload\n",
              " * process.\n",
              " * @param {string} inputId Element ID of the input file picker element.\n",
              " * @param {string} outputId Element ID of the output display.\n",
              " * @return {!Iterable<!Object>} Iterable of next steps.\n",
              " */\n",
              "function* uploadFilesStep(inputId, outputId) {\n",
              "  const inputElement = document.getElementById(inputId);\n",
              "  inputElement.disabled = false;\n",
              "\n",
              "  const outputElement = document.getElementById(outputId);\n",
              "  outputElement.innerHTML = '';\n",
              "\n",
              "  const pickedPromise = new Promise((resolve) => {\n",
              "    inputElement.addEventListener('change', (e) => {\n",
              "      resolve(e.target.files);\n",
              "    });\n",
              "  });\n",
              "\n",
              "  const cancel = document.createElement('button');\n",
              "  inputElement.parentElement.appendChild(cancel);\n",
              "  cancel.textContent = 'Cancel upload';\n",
              "  const cancelPromise = new Promise((resolve) => {\n",
              "    cancel.onclick = () => {\n",
              "      resolve(null);\n",
              "    };\n",
              "  });\n",
              "\n",
              "  // Wait for the user to pick the files.\n",
              "  const files = yield {\n",
              "    promise: Promise.race([pickedPromise, cancelPromise]),\n",
              "    response: {\n",
              "      action: 'starting',\n",
              "    }\n",
              "  };\n",
              "\n",
              "  cancel.remove();\n",
              "\n",
              "  // Disable the input element since further picks are not allowed.\n",
              "  inputElement.disabled = true;\n",
              "\n",
              "  if (!files) {\n",
              "    return {\n",
              "      response: {\n",
              "        action: 'complete',\n",
              "      }\n",
              "    };\n",
              "  }\n",
              "\n",
              "  for (const file of files) {\n",
              "    const li = document.createElement('li');\n",
              "    li.append(span(file.name, {fontWeight: 'bold'}));\n",
              "    li.append(span(\n",
              "        `(${file.type || 'n/a'}) - ${file.size} bytes, ` +\n",
              "        `last modified: ${\n",
              "            file.lastModifiedDate ? file.lastModifiedDate.toLocaleDateString() :\n",
              "                                    'n/a'} - `));\n",
              "    const percent = span('0% done');\n",
              "    li.appendChild(percent);\n",
              "\n",
              "    outputElement.appendChild(li);\n",
              "\n",
              "    const fileDataPromise = new Promise((resolve) => {\n",
              "      const reader = new FileReader();\n",
              "      reader.onload = (e) => {\n",
              "        resolve(e.target.result);\n",
              "      };\n",
              "      reader.readAsArrayBuffer(file);\n",
              "    });\n",
              "    // Wait for the data to be ready.\n",
              "    let fileData = yield {\n",
              "      promise: fileDataPromise,\n",
              "      response: {\n",
              "        action: 'continue',\n",
              "      }\n",
              "    };\n",
              "\n",
              "    // Use a chunked sending to avoid message size limits. See b/62115660.\n",
              "    let position = 0;\n",
              "    do {\n",
              "      const length = Math.min(fileData.byteLength - position, MAX_PAYLOAD_SIZE);\n",
              "      const chunk = new Uint8Array(fileData, position, length);\n",
              "      position += length;\n",
              "\n",
              "      const base64 = btoa(String.fromCharCode.apply(null, chunk));\n",
              "      yield {\n",
              "        response: {\n",
              "          action: 'append',\n",
              "          file: file.name,\n",
              "          data: base64,\n",
              "        },\n",
              "      };\n",
              "\n",
              "      let percentDone = fileData.byteLength === 0 ?\n",
              "          100 :\n",
              "          Math.round((position / fileData.byteLength) * 100);\n",
              "      percent.textContent = `${percentDone}% done`;\n",
              "\n",
              "    } while (position < fileData.byteLength);\n",
              "  }\n",
              "\n",
              "  // All done.\n",
              "  yield {\n",
              "    response: {\n",
              "      action: 'complete',\n",
              "    }\n",
              "  };\n",
              "}\n",
              "\n",
              "scope.google = scope.google || {};\n",
              "scope.google.colab = scope.google.colab || {};\n",
              "scope.google.colab._files = {\n",
              "  _uploadFiles,\n",
              "  _uploadFilesContinue,\n",
              "};\n",
              "})(self);\n",
              "</script> "
            ]
          },
          "metadata": {}
        },
        {
          "output_type": "stream",
          "name": "stdout",
          "text": [
            "Saving dog.png to dog.png\n",
            "dog.png\n",
            "width:   750\n",
            "height:  579\n"
          ]
        }
      ]
    },
    {
      "cell_type": "code",
      "execution_count": 2,
      "metadata": {
        "colab": {
          "base_uri": "https://localhost:8080/"
        },
        "id": "e-FetTb-Kd22",
        "outputId": "3f9ae71e-d4b3-4332-c91a-eccf65697737"
      },
      "outputs": [
        {
          "output_type": "stream",
          "name": "stdout",
          "text": [
            "368\n",
            "01001000011001010110110001101100011011110010110000100000011101000110100001101001011100110010000001101001011100110010000001001001011000100111001001100001011010000110100101101101001000000110000101110100001000000101010101000100010100110101010000100000010100010110000101110100011000010111001000101100001000000111010001101111011001000110000101111001001011101111111111111110\n"
          ]
        }
      ],
      "source": [
        "def message_to_bin(message):\n",
        "    binary_message = ''.join(format(ord(i), '08b') for i in message)\n",
        "    return binary_message\n",
        "\n",
        "def encode_image(image_path, secret_message):\n",
        "    img = Image.open(image_path)\n",
        "    encoded_img = img.copy()\n",
        "    binary_secret_msg = message_to_bin(secret_message) + '1111111111111110'  # 16-bit delimiter which indicates end of the secret message\n",
        "    print(len(binary_secret_msg))\n",
        "    print(binary_secret_msg)\n",
        "\n",
        "    data_index = 0\n",
        "    for row in range(img.size[0]):\n",
        "        for col in range(img.size[1]):\n",
        "            pixel = list(img.getpixel((row, col)))\n",
        "            for color in range(3):\n",
        "                if data_index < len(binary_secret_msg):\n",
        "                    pixel[color] = int(format(pixel[color], '08b')[:-1] + binary_secret_msg[data_index], 2)\n",
        "                    data_index += 1\n",
        "            encoded_img.putpixel((row, col), tuple(pixel))\n",
        "\n",
        "    return encoded_img\n",
        "\n",
        "if __name__ == '__main__':\n",
        "    # Path to the image you want to hide the secret in\n",
        "    #image_path = 'path/to/image.png'\n",
        "\n",
        "    # Secret message you want to hide\n",
        "    secret_message = \"Hello, this is Ibrahim at UDST Qatar, today.\"\n",
        "\n",
        "    encoded_image = encode_image(image_path, secret_message)\n",
        "    encoded_image.save(\"encoded_image.png\")\n"
      ]
    },
    {
      "cell_type": "code",
      "source": [
        "print(image_path)"
      ],
      "metadata": {
        "colab": {
          "base_uri": "https://localhost:8080/"
        },
        "id": "6wiquK0pou7b",
        "outputId": "6881e346-6d8e-4f75-fb12-bad965d716c2"
      },
      "execution_count": 26,
      "outputs": [
        {
          "output_type": "stream",
          "name": "stdout",
          "text": [
            "dog.png\n"
          ]
        }
      ]
    },
    {
      "cell_type": "code",
      "source": [
        "# decode the message from the encoded image\n",
        "#from google.colab import files\n",
        "\n",
        "#uploaded = files.upload()\n",
        "encoded_image_path = '/content/encoded_image.png'#list(uploaded.keys())[0]  # Take the first uploaded file\n",
        "\n",
        "def bin_to_message(binary_message):\n",
        "    binary_values = [binary_message[i:i+8] for i in range(0, len(binary_message), 8)]\n",
        "    ascii_characters = [chr(int(bv, 2)) for bv in binary_values]\n",
        "    decoded_message = ''.join(ascii_characters)\n",
        "    return decoded_message\n",
        "\n",
        "def decode_image(encoded_image_path):\n",
        "    img = Image.open(encoded_image_path)\n",
        "    binary_secret_msg = \"\"\n",
        "\n",
        "    for row in range(img.size[0]):\n",
        "        for col in range(img.size[1]):\n",
        "            pixel = list(img.getpixel((row, col)))\n",
        "            for color in range(3):\n",
        "                binary_secret_msg += (format(pixel[color], '08b')[-1])\n",
        "\n",
        "    end_delimiter = '1111111111111110'\n",
        "    end_delimiter_pos = binary_secret_msg.find(end_delimiter)\n",
        "    if end_delimiter_pos != -1:\n",
        "        binary_secret_msg = binary_secret_msg[:end_delimiter_pos]\n",
        "\n",
        "    decoded_message = bin_to_message(binary_secret_msg)\n",
        "    return decoded_message\n",
        "\n",
        "secret_message = decode_image(encoded_image_path)\n",
        "print(f\"The hidden message is: {secret_message}\")"
      ],
      "metadata": {
        "colab": {
          "base_uri": "https://localhost:8080/"
        },
        "id": "p94f8U6DNBTQ",
        "outputId": "3799656b-9b6b-488b-e325-9975308490e0"
      },
      "execution_count": 3,
      "outputs": [
        {
          "output_type": "stream",
          "name": "stdout",
          "text": [
            "The hidden message is: Hello, this is Ibrahim at UDST Qatar, today.\n"
          ]
        }
      ]
    }
  ]
}