{
  "nbformat": 4,
  "nbformat_minor": 0,
  "metadata": {
    "colab": {
      "provenance": [],
      "include_colab_link": true
    },
    "kernelspec": {
      "name": "python3",
      "display_name": "Python 3"
    },
    "language_info": {
      "name": "python"
    }
  },
  "cells": [
    {
      "cell_type": "markdown",
      "metadata": {
        "id": "view-in-github",
        "colab_type": "text"
      },
      "source": [
        "<a href=\"https://colab.research.google.com/github/ibribr/DT8807/blob/master/Embedd_FNN_Umair.ipynb\" target=\"_parent\"><img src=\"https://colab.research.google.com/assets/colab-badge.svg\" alt=\"Open In Colab\"/></a>"
      ]
    },
    {
      "cell_type": "code",
      "source": [
        "# Convert a float to its binary representation\n",
        "def float_to_binary(f):\n",
        "    # Get the binary string representation (including integer and fractional parts)\n",
        "    #binary_string = format(struct.unpack('!Q', struct.pack('!d', f))[0], '064b')\n",
        "    binary_string = format(struct.unpack('!I', struct.pack('!f', f))[0], '032b')\n",
        "    #binary_string = format(struct.unpack('!H', struct.pack('!e', f))[0], '016b')\n",
        "\n",
        "    return binary_string\n",
        "\n",
        "# Convert a binary string back to a float\n",
        "def binary_to_float(binary_string):\n",
        "    # Convert the binary string to an integer\n",
        "    integer_value = int(binary_string, 2)\n",
        "\n",
        "    # Convert the integer to a float\n",
        "    #float_value = struct.unpack('!d', struct.pack('!Q', integer_value))[0]\n",
        "    float_value = struct.unpack('!f', struct.pack('!I', integer_value))[0]\n",
        "    #float_value = struct.unpack('!e', struct.pack('!H', integer_value))[0]\n",
        "\n",
        "    return float_value\n",
        "\n",
        "import struct\n",
        "\n",
        "# Example usage\n",
        "original_float = 12.5  # Replace with your float\n",
        "binary_representation = float_to_binary(original_float)\n",
        "print(len(binary_representation))\n",
        "# LSB substot\n",
        "converted_float = binary_to_float(binary_representation)\n",
        "\n",
        "print(\"Original Float:\", original_float)\n",
        "print(\"Binary Representation:\", binary_representation)\n",
        "print(\"Converted Float:\", converted_float)"
      ],
      "metadata": {
        "colab": {
          "base_uri": "https://localhost:8080/"
        },
        "id": "lY-XUhh7KBDH",
        "outputId": "82d731f5-3df9-409b-839a-8bcd4613c2bd"
      },
      "execution_count": 1,
      "outputs": [
        {
          "output_type": "stream",
          "name": "stdout",
          "text": [
            "32\n",
            "Original Float: 12.5\n",
            "Binary Representation: 01000001010010000000000000000000\n",
            "Converted Float: 12.5\n"
          ]
        }
      ]
    },
    {
      "cell_type": "code",
      "source": [
        "import numpy as np\n",
        "import tensorflow as tf\n",
        "from tensorflow import keras\n",
        "from sklearn.metrics import accuracy_score\n",
        "\n",
        "# Sample data for training\n",
        "data = np.array([[0,0],[0,1],[1,0],[1,1]])\n",
        "labels = np.array([[0],[1],[1],[0]])\n",
        "\n",
        "# Define a basic model\n",
        "model = keras.models.Sequential([\n",
        "    keras.layers.Dense(10, activation='relu', input_shape=(2,), name='hidden_layer_1'),\n",
        "    keras.layers.Dense(14, activation='relu', name='hidden_layer_2'),\n",
        "    keras.layers.Dense(1, activation='sigmoid', name='output_layer')\n",
        "])\n",
        "\n",
        "model.compile(optimizer='adam', loss='binary_crossentropy', metrics=['accuracy'])\n",
        "model.fit(data, labels, epochs=100, verbose=0)\n",
        "y_pred = np.round(model.predict(data))\n",
        "print(y_pred)\n",
        "print('Model accuracy = ', accuracy_score(labels, y_pred)*100)\n",
        "\n",
        "for i in range(len(model.layers)):\n",
        "    weights = model.layers[i].get_weights()[0]     #weights\n",
        "    biases = model.layers[i].get_weights()[1]        #bias\n",
        "    #print(f\"Layer {i} Weights: {weights}\")\n",
        "    #print(f\"Layer {i} Biases: {biases}\")\n",
        "    # do something with the weights\n",
        "    #print(weights.size)\n",
        "    #print(weights.shape)\n",
        "    for j, row in enumerate(range(weights.shape[0])):\n",
        "      for k, col in enumerate(range(weights.shape[1])):\n",
        "        #print(weights[j,k])\n",
        "        binary_representation = float_to_binary(weights[j,k])\n",
        "        #print(binary_representation)\n",
        "        converted_float = binary_to_float(binary_representation)\n",
        "        #print(converted_float)"
      ],
      "metadata": {
        "id": "FOd6oxA7NwKY",
        "colab": {
          "base_uri": "https://localhost:8080/"
        },
        "outputId": "1940f58b-4826-4e3b-8866-39bc703353b0"
      },
      "execution_count": 24,
      "outputs": [
        {
          "output_type": "stream",
          "name": "stdout",
          "text": [
            "1/1 [==============================] - 0s 42ms/step\n",
            "[[0.]\n",
            " [1.]\n",
            " [1.]\n",
            " [0.]]\n",
            "Model accuracy =  100.0\n"
          ]
        }
      ]
    },
    {
      "cell_type": "code",
      "source": [
        "def message_to_binary(message):\n",
        "    return ''.join([format(ord(char), '08b') for char in message])\n",
        "\n",
        "def binary_to_message(binary_str):\n",
        "    return ''.join([chr(int(binary_str[i:i+8], 2)) for i in range(0, len(binary_str), 8)])\n",
        "\n",
        "def message_to_bin(message):\n",
        "    binary_message = ''.join(format(ord(i), '08b') for i in message)\n",
        "    return binary_message\n",
        "\n",
        "def bin_to_message(binary_message):\n",
        "    binary_values = [binary_message[i:i+8] for i in range(0, len(binary_message), 8)]\n",
        "    ascii_characters = [chr(int(bv, 2)) for bv in binary_values]\n",
        "    decoded_message = ''.join(ascii_characters)\n",
        "    return decoded_message\n",
        "\n",
        "def encode_message_into_weights(model, message):\n",
        "    binary_secret_msg = message_to_bin(secret_message) + '1111111111111110'  # 16-bit delimiter which indicates end of the secret message\n",
        "    #weights = model.get_weights()\n",
        "    #print(len(model.layers))\n",
        "\n",
        "    data_index = 0\n",
        "    for i in range(len(model.layers)):\n",
        "      weights = model.layers[i].get_weights()[0]     #weights\n",
        "      biases = model.layers[i].get_weights()[1]        #bias\n",
        "\n",
        "      for j, row in enumerate(range(weights.shape[0])):\n",
        "        for k, col in enumerate(range(weights.shape[1])):\n",
        "          if data_index < len(binary_secret_msg):\n",
        "            binary_representation = float_to_binary(weights[j,k])[:-1]+binary_secret_msg[data_index]\n",
        "            data_index += 1\n",
        "            converted_float = binary_to_float(binary_representation)\n",
        "            weights[j,k] = converted_float\n",
        "      model.layers[i].set_weights([weights, biases])\n",
        "\n",
        "\n",
        "def decode_message_from_weights(model):\n",
        "    binary_secret_msg = \"\"\n",
        "    weights = model.get_weights()\n",
        "\n",
        "    for i in range(len(model.layers)):\n",
        "      weights = model.layers[i].get_weights()[0]     #weights\n",
        "      for j, row in enumerate(range(weights.shape[0])):\n",
        "        for k, col in enumerate(range(weights.shape[1])):\n",
        "          binary_secret_msg += (float_to_binary(weights[j,k])[-1])\n",
        "\n",
        "    end_delimiter = '1111111111111110'\n",
        "    end_delimiter_pos = binary_secret_msg.find(end_delimiter)\n",
        "    if end_delimiter_pos != -1:\n",
        "        binary_secret_msg = binary_secret_msg[:end_delimiter_pos]\n",
        "\n",
        "    decoded_message = bin_to_message(binary_secret_msg)\n",
        "    return decoded_message\n",
        "\n",
        "\n",
        "if __name__ == '__main__':\n",
        "\n",
        "    # Secret message you want to hide\n",
        "    secret_message = \"Good morning Qatar\"\n",
        "    encode_message_into_weights(model, secret_message)\n",
        "    decoded_message = decode_message_from_weights(model)\n",
        "    print(decoded_message)\n",
        "\n",
        "    y_pred = np.round(model.predict(data))\n",
        "    print(y_pred)\n",
        "    print('Model accuracy = ', accuracy_score(labels, y_pred)*100)"
      ],
      "metadata": {
        "colab": {
          "base_uri": "https://localhost:8080/"
        },
        "id": "ThPLdLT5Rfxw",
        "outputId": "7d769701-b6e0-42d4-d130-536a7dddd879"
      },
      "execution_count": 25,
      "outputs": [
        {
          "output_type": "stream",
          "name": "stdout",
          "text": [
            "Good morning Qatar\n",
            "1/1 [==============================] - 0s 15ms/step\n",
            "[[0.]\n",
            " [1.]\n",
            " [1.]\n",
            " [0.]]\n",
            "Model accuracy =  100.0\n"
          ]
        }
      ]
    }
  ]
}