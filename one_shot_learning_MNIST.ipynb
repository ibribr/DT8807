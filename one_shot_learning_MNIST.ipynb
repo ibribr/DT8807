{
  "nbformat": 4,
  "nbformat_minor": 0,
  "metadata": {
    "colab": {
      "provenance": [],
      "authorship_tag": "ABX9TyOd1Zek7mPhNBesAGSnw24m",
      "include_colab_link": true
    },
    "kernelspec": {
      "name": "python3",
      "display_name": "Python 3"
    },
    "language_info": {
      "name": "python"
    }
  },
  "cells": [
    {
      "cell_type": "markdown",
      "metadata": {
        "id": "view-in-github",
        "colab_type": "text"
      },
      "source": [
        "<a href=\"https://colab.research.google.com/github/ibribr/DT8807/blob/master/one_shot_learning_MNIST.ipynb\" target=\"_parent\"><img src=\"https://colab.research.google.com/assets/colab-badge.svg\" alt=\"Open In Colab\"/></a>"
      ]
    },
    {
      "cell_type": "code",
      "source": [
        "import numpy as np\n",
        "from keras.datasets import mnist\n",
        "from keras.models import Sequential\n",
        "from keras.layers import Dense, Flatten, Conv2D, MaxPooling2D\n",
        "from keras.optimizers import Adam\n",
        "from keras.utils import to_categorical\n",
        "import matplotlib.pyplot as plt\n",
        "from sklearn.metrics import confusion_matrix, classification_report, f1_score, precision_score, recall_score, accuracy_score"
      ],
      "metadata": {
        "id": "SYeNekCpf26Y"
      },
      "execution_count": 70,
      "outputs": []
    },
    {
      "cell_type": "code",
      "source": [
        "# Load the MNIST dataset\n",
        "(x_train, y_train), (x_test, y_test) = mnist.load_data()\n",
        "print(x_train.shape)\n",
        "\n",
        "print(x_train.shape)\n",
        "\n",
        "\n",
        "# Convert the output labels to one-hot encoded vectors\n",
        "y_train = to_categorical(y_train)\n",
        "y_test = to_categorical(y_test)\n",
        "\n",
        "# Define the input and output shapes\n",
        "input_shape = (28, 28, 1)\n",
        "num_classes = 10"
      ],
      "metadata": {
        "colab": {
          "base_uri": "https://localhost:8080/"
        },
        "id": "o4ihg92vgFLF",
        "outputId": "ee4db485-a2e9-4c44-8d31-c510fd0dc9f6"
      },
      "execution_count": 71,
      "outputs": [
        {
          "output_type": "stream",
          "name": "stdout",
          "text": [
            "(60000, 28, 28)\n",
            "(60000, 28, 28)\n"
          ]
        }
      ]
    },
    {
      "cell_type": "code",
      "source": [
        "# Define the model architecture\n",
        "model = Sequential()\n",
        "model.add(Conv2D(32, (3, 3), activation='relu', input_shape=input_shape))\n",
        "model.add(MaxPooling2D((2, 2)))\n",
        "model.add(Flatten())\n",
        "model.add(Dense(num_classes, activation='softmax'))\n",
        "\n",
        "# Compile the model\n",
        "model.compile(loss='categorical_crossentropy', optimizer=Adam(lr=0.001), metrics=['accuracy'])\n",
        "\n",
        "model.summary()"
      ],
      "metadata": {
        "colab": {
          "base_uri": "https://localhost:8080/"
        },
        "id": "zH4Y8VPUgsHg",
        "outputId": "36cdac61-9001-40f0-835a-c45759e38489"
      },
      "execution_count": 72,
      "outputs": [
        {
          "output_type": "stream",
          "name": "stdout",
          "text": [
            "Model: \"sequential_5\"\n",
            "_________________________________________________________________\n",
            " Layer (type)                Output Shape              Param #   \n",
            "=================================================================\n",
            " conv2d_5 (Conv2D)           (None, 26, 26, 32)        320       \n",
            "                                                                 \n",
            " max_pooling2d_4 (MaxPooling  (None, 13, 13, 32)       0         \n",
            " 2D)                                                             \n",
            "                                                                 \n",
            " flatten_4 (Flatten)         (None, 5408)              0         \n",
            "                                                                 \n",
            " dense_4 (Dense)             (None, 10)                54090     \n",
            "                                                                 \n",
            "=================================================================\n",
            "Total params: 54,410\n",
            "Trainable params: 54,410\n",
            "Non-trainable params: 0\n",
            "_________________________________________________________________\n"
          ]
        },
        {
          "output_type": "stream",
          "name": "stderr",
          "text": [
            "/usr/local/lib/python3.9/dist-packages/keras/optimizers/legacy/adam.py:117: UserWarning: The `lr` argument is deprecated, use `learning_rate` instead.\n",
            "  super().__init__(name, **kwargs)\n"
          ]
        }
      ]
    },
    {
      "cell_type": "code",
      "execution_count": 73,
      "metadata": {
        "colab": {
          "base_uri": "https://localhost:8080/",
          "height": 369
        },
        "id": "YRx7Jtdpf0nX",
        "outputId": "b357607b-906f-4335-96aa-f189250b18a0"
      },
      "outputs": [
        {
          "output_type": "stream",
          "name": "stdout",
          "text": [
            "(10, 28, 28)\n"
          ]
        },
        {
          "output_type": "display_data",
          "data": {
            "text/plain": [
              "<Figure size 640x480 with 10 Axes>"
            ],
            "image/png": "[encoded data removed]"
          },
          "metadata": {}
        }
      ],
      "source": [
        "# Generate a single example for each class\n",
        "data = []\n",
        "labels = []\n",
        "for i in range(num_classes):\n",
        "    indices = np.where(y_train[:,i] == 1)[0]\n",
        "    x = x_train[indices[0],:,:]\n",
        "    y = to_categorical(i, num_classes=num_classes)\n",
        "    data.append(x)\n",
        "    labels.append(y)\n",
        "\n",
        "# Train the model on the generated examples\n",
        "data = np.array(data)\n",
        "labels = np.array(labels)\n",
        "\n",
        "print(data.shape)\n",
        "\n",
        "# Reshape the images into 2D arrays (28x28)\n",
        "images = data.reshape(-1, 28, 28)\n",
        "# Plot the images using matplotlib\n",
        "fig, axes = plt.subplots(nrows=2, ncols=5)\n",
        "for i, ax in enumerate(axes.flat):\n",
        "    ax.imshow(images[i], cmap='gray')\n",
        "plt.show()"
      ]
    },
    {
      "cell_type": "code",
      "source": [
        "history = model.fit(data, labels, epochs=10, batch_size=num_classes)"
      ],
      "metadata": {
        "colab": {
          "base_uri": "https://localhost:8080/"
        },
        "id": "8PUXXyXShCuR",
        "outputId": "f36b67dc-3ee8-44af-af67-e0c1c6f8f1d6"
      },
      "execution_count": 74,
      "outputs": [
        {
          "output_type": "stream",
          "name": "stdout",
          "text": [
            "Epoch 1/10\n",
            "1/1 [==============================] - 0s 424ms/step - loss: 38.0519 - accuracy: 0.1000\n",
            "Epoch 2/10\n",
            "1/1 [==============================] - 0s 18ms/step - loss: 13.9201 - accuracy: 0.4000\n",
            "Epoch 3/10\n",
            "1/1 [==============================] - 0s 17ms/step - loss: 4.4737 - accuracy: 0.5000\n",
            "Epoch 4/10\n",
            "1/1 [==============================] - 0s 19ms/step - loss: 0.0437 - accuracy: 1.0000\n",
            "Epoch 5/10\n",
            "1/1 [==============================] - 0s 17ms/step - loss: 0.0015 - accuracy: 1.0000\n",
            "Epoch 6/10\n",
            "1/1 [==============================] - 0s 21ms/step - loss: 0.9961 - accuracy: 0.9000\n",
            "Epoch 7/10\n",
            "1/1 [==============================] - 0s 17ms/step - loss: 0.0063 - accuracy: 1.0000\n",
            "Epoch 8/10\n",
            "1/1 [==============================] - 0s 18ms/step - loss: 2.7943e-04 - accuracy: 1.0000\n",
            "Epoch 9/10\n",
            "1/1 [==============================] - 0s 24ms/step - loss: 1.7463e-05 - accuracy: 1.0000\n",
            "Epoch 10/10\n",
            "1/1 [==============================] - 0s 16ms/step - loss: 1.4424e-06 - accuracy: 1.0000\n"
          ]
        }
      ]
    },
    {
      "cell_type": "code",
      "source": [
        "# Test the model on a new example\n",
        "digit = 5\n",
        "indices = np.where(y_test[:,digit] == 1)[0]\n",
        "print(len(indices))\n",
        "print(np.random.randint(0, len(indices)))\n",
        "x_test_one = x_test[indices[np.random.randint(0, len(indices))],:,:]\n",
        "y_test_one = to_categorical(digit, num_classes=num_classes)\n",
        "\n",
        "x_test_one = np.array([x_test_one])\n",
        "y_test_one = np.array([y_test_one])\n",
        "\n",
        "plt.imshow(x_test_one.reshape(28, 28))\n",
        "plt.show()\n",
        "\n",
        "print('Predicted label = ', np.argmax(model.predict(x_test_one), axis=1))\n",
        "\n",
        "loss, acc = model.evaluate(x_test_one, y_test_one)\n",
        "print('Test accuracy:', acc)"
      ],
      "metadata": {
        "colab": {
          "base_uri": "https://localhost:8080/",
          "height": 537
        },
        "id": "7Vig611hi87-",
        "outputId": "cb02915d-e376-4c99-d445-a122e57b430c"
      },
      "execution_count": 77,
      "outputs": [
        {
          "output_type": "stream",
          "name": "stdout",
          "text": [
            "892\n",
            "546\n"
          ]
        },
        {
          "output_type": "display_data",
          "data": {
            "text/plain": [
              "<Figure size 640x480 with 1 Axes>"
            ],
            "image/png": "[encoded data removed]"
          },
          "metadata": {}
        },
        {
          "output_type": "stream",
          "name": "stdout",
          "text": [
            "1/1 [==============================] - 0s 24ms/step\n",
            "Predicted label =  [5]\n",
            "1/1 [==============================] - 0s 33ms/step - loss: 0.2156 - accuracy: 1.0000\n",
            "Test accuracy: 1.0\n"
          ]
        }
      ]
    },
    {
      "cell_type": "code",
      "source": [
        "y_pred = model.predict(x_test)\n",
        "y__test = np.argmax(y_test,axis=1)\n",
        "y__pred = np.argmax(y_pred,axis=1)\n",
        "cm = confusion_matrix(y__test,y__pred)\n",
        "print(cm)\n",
        "print(classification_report(y__test,y__pred))\n"
      ],
      "metadata": {
        "colab": {
          "base_uri": "https://localhost:8080/"
        },
        "id": "f7qN-lqAkXB2",
        "outputId": "f35d45ae-4e1d-4cbd-f54b-de4de728db24"
      },
      "execution_count": 66,
      "outputs": [
        {
          "output_type": "stream",
          "name": "stdout",
          "text": [
            "313/313 [==============================] - 3s 8ms/step\n",
            "[[816   0   9   4  10   0   9  29   1 102]\n",
            " [  0 147 181 375   1  20   5 246 133  27]\n",
            " [ 58  13 617  85  65  24  24  90   8  48]\n",
            " [ 92   1  45 586  78  52   1  25  18 112]\n",
            " [  2   0  45   1 171   0   9 300  11 443]\n",
            " [ 52   0  37 159  26  33  34 272  54 225]\n",
            " [112   0 319   4  15   3 472  15   6  12]\n",
            " [  3   2  14   9  17   0   0 733   4 246]\n",
            " [ 14   0 111  53  54   1  21 314 168 238]\n",
            " [  2   0   4  10  15   1   2 373   6 596]]\n",
            "              precision    recall  f1-score   support\n",
            "\n",
            "           0       0.71      0.83      0.77       980\n",
            "           1       0.90      0.13      0.23      1135\n",
            "           2       0.45      0.60      0.51      1032\n",
            "           3       0.46      0.58      0.51      1010\n",
            "           4       0.38      0.17      0.24       982\n",
            "           5       0.25      0.04      0.06       892\n",
            "           6       0.82      0.49      0.61       958\n",
            "           7       0.31      0.71      0.43      1028\n",
            "           8       0.41      0.17      0.24       974\n",
            "           9       0.29      0.59      0.39      1009\n",
            "\n",
            "    accuracy                           0.43     10000\n",
            "   macro avg       0.50      0.43      0.40     10000\n",
            "weighted avg       0.50      0.43      0.40     10000\n",
            "\n"
          ]
        }
      ]
    }
  ]
}