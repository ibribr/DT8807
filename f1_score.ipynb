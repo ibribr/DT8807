{
  "nbformat": 4,
  "nbformat_minor": 0,
  "metadata": {
    "colab": {
      "provenance": [],
      "authorship_tag": "ABX9TyOGdq/lk+XCWHPnTg15Q4P0",
      "include_colab_link": true
    },
    "kernelspec": {
      "name": "python3",
      "display_name": "Python 3"
    },
    "language_info": {
      "name": "python"
    }
  },
  "cells": [
    {
      "cell_type": "markdown",
      "metadata": {
        "id": "view-in-github",
        "colab_type": "text"
      },
      "source": [
        "<a href=\"https://colab.research.google.com/github/ibribr/DT8807/blob/master/f1_score.ipynb\" target=\"_parent\"><img src=\"https://colab.research.google.com/assets/colab-badge.svg\" alt=\"Open In Colab\"/></a>"
      ]
    },
    {
      "cell_type": "code",
      "execution_count": 28,
      "metadata": {
        "id": "sGmCiOS2zjRX"
      },
      "outputs": [],
      "source": [
        "import numpy as np\n",
        "from sklearn.metrics import f1_score, confusion_matrix, precision_score, recall_score\n",
        "from sklearn.metrics import classification_report, accuracy_score"
      ]
    },
    {
      "cell_type": "code",
      "source": [
        "y_true = [0, 1, 2, 0, 1, 2]\n",
        "y_pred = [0, 2, 1, 0, 0, 1]\n",
        "\n",
        "print(classification_report(y_true, y_pred))\n",
        "print('-'*30)\n",
        "\n",
        "cm = confusion_matrix(y_true, y_pred)\n",
        "print('Confusion matrix', cm)\n",
        "print('-'*30)\n",
        "\n",
        "prec = precision_score(y_true, y_pred, average=None)\n",
        "recal = recall_score(y_true, y_pred, average=None)\n",
        "accu = accuracy_score(y_true, y_pred) \n",
        "#If normalize == True, return the fraction of correctly classified samples \n",
        "print('Accuracy :', accu)\n",
        "print('Precision:', prec)\n",
        "print('Recall   :', recal)\n",
        "print('Individual F1 Score (one vs rest):', f1_score(y_true, y_pred, average=None))\n",
        "print('Individual F1 score              :', 2*prec*recal/(prec+recal))\n",
        "print('-'*30)\n",
        "\n",
        "print('Overall micro.  :',np.round(f1_score(y_true, y_pred, average='micro'),2))\n",
        "print('Macro           :', np.round(f1_score(y_true, y_pred, average='macro'),2))\n",
        "print('Weighted average: ', np.round(f1_score(y_true, y_pred, average='weighted'),2))"
      ],
      "metadata": {
        "colab": {
          "base_uri": "https://localhost:8080/"
        },
        "id": "rUJ3yCzdzwR9",
        "outputId": "22b75d1f-ea23-4876-99a0-b4791787d45a"
      },
      "execution_count": 29,
      "outputs": [
        {
          "output_type": "stream",
          "name": "stdout",
          "text": [
            "              precision    recall  f1-score   support\n",
            "\n",
            "           0       0.67      1.00      0.80         2\n",
            "           1       0.00      0.00      0.00         2\n",
            "           2       0.00      0.00      0.00         2\n",
            "\n",
            "    accuracy                           0.33         6\n",
            "   macro avg       0.22      0.33      0.27         6\n",
            "weighted avg       0.22      0.33      0.27         6\n",
            "\n",
            "------------------------------\n",
            "Confusion matrix [[2 0 0]\n",
            " [1 0 1]\n",
            " [0 2 0]]\n",
            "------------------------------\n",
            "Accuracy : 0.3333333333333333\n",
            "Precision: [0.66666667 0.         0.        ]\n",
            "Recall   : [1. 0. 0.]\n",
            "Individual F1 Score (one vs rest): [0.8 0.  0. ]\n",
            "Individual F1 score              : [0.8 nan nan]\n",
            "------------------------------\n",
            "Overall micro.  : 0.33\n",
            "Macro           : 0.27\n",
            "Weighted average:  0.27\n"
          ]
        },
        {
          "output_type": "stream",
          "name": "stderr",
          "text": [
            "<ipython-input-29-13323f1ba8c0>:19: RuntimeWarning: invalid value encountered in true_divide\n",
            "  print('Individual F1 score              :', 2*prec*recal/(prec+recal))\n"
          ]
        }
      ]
    },
    {
      "cell_type": "code",
      "source": [
        "# How to calculate AUC score?\n",
        "from sklearn.metrics import roc_auc_score\n",
        "\n",
        "y_true = [0,1,1,0,0,1]\n",
        "y_pred = [0,0,1,1,0,1]\n",
        "\n",
        "auc = roc_auc_score(y_true, y_pred)\n",
        "print(np.round(auc,2))"
      ],
      "metadata": {
        "colab": {
          "base_uri": "https://localhost:8080/"
        },
        "id": "jB5oF0LB0Qhf",
        "outputId": "23aa96a0-4253-4885-ca28-a27ec88fa500"
      },
      "execution_count": 32,
      "outputs": [
        {
          "output_type": "stream",
          "name": "stdout",
          "text": [
            "0.67\n"
          ]
        }
      ]
    }
  ]
}