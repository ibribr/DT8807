{
  "nbformat": 4,
  "nbformat_minor": 0,
  "metadata": {
    "colab": {
      "provenance": [],
      "authorship_tag": "ABX9TyOciUrJp15nOO+74zRSzVG2",
      "include_colab_link": true
    },
    "kernelspec": {
      "name": "python3",
      "display_name": "Python 3"
    },
    "accelerator": "GPU",
    "gpuClass": "standard"
  },
  "cells": [
    {
      "cell_type": "markdown",
      "metadata": {
        "id": "view-in-github",
        "colab_type": "text"
      },
      "source": [
        "<a href=\"https://colab.research.google.com/github/ibribr/DT8807/blob/master/MNIST_keras.ipynb\" target=\"_parent\"><img src=\"https://colab.research.google.com/assets/colab-badge.svg\" alt=\"Open In Colab\"/></a>"
      ]
    },
    {
      "cell_type": "code",
      "metadata": {
        "id": "3j5hJefnmY60"
      },
      "source": [
        "# MLP for MNIST\n",
        "import numpy as np\n",
        "import matplotlib.pyplot as plt\n",
        "from matplotlib.colors import ListedColormap\n",
        "import keras\n",
        "from keras.datasets import mnist\n",
        "from keras.models import Sequential\n",
        "from keras.layers import Dense\n",
        "from keras.utils import to_categorical\n",
        "from sklearn.metrics import confusion_matrix, precision_score, recall_score"
      ],
      "execution_count": null,
      "outputs": []
    },
    {
      "cell_type": "code",
      "metadata": {
        "id": "P0RdJ0B1mfHM",
        "colab": {
          "base_uri": "https://localhost:8080/",
          "height": 299
        },
        "outputId": "5d5fa831-e5be-4667-a353-4a87d96475bc"
      },
      "source": [
        "(x_train, y_train), (x_test, y_test)=mnist.load_data()  #60000 samples for training, 10000 samples for testing\n",
        "\n",
        "print('train:', x_train.shape, y_train.shape)\n",
        "print('Test set:', x_test.shape, y_test.shape)\n",
        "\n",
        "# visualize some\n",
        "fig, ax = plt.subplots(2,5,sharex=True,sharey=True)\n",
        "ax = ax.flatten()\n",
        "for i in range(10):\n",
        "  ax[i].imshow(x_train[i,:], cmap='binary')\n",
        "plt.show()\n",
        "\n",
        "# prepare the data for training\n",
        "x_train = x_train.reshape(60000,28*28)\n",
        "x_train = x_train.astype('float32')/255\n",
        "x_test = x_test.reshape(10000,28*28)\n",
        "x_test = x_test.astype('float32')/255\n",
        "y_train = to_categorical(y_train)\n",
        "print(y_test[0:1])\n",
        "y_test = to_categorical(y_test)\n",
        "\n",
        "print(y_test[0:1,:])"
      ],
      "execution_count": null,
      "outputs": [
        {
          "output_type": "stream",
          "name": "stdout",
          "text": [
            "train: (60000, 28, 28) (60000,)\n",
            "Test set: (10000, 28, 28) (10000,)\n"
          ]
        },
        {
          "output_type": "display_data",
          "data": {
            "text/plain": [
              "<Figure size 432x288 with 10 Axes>"
            ],
            "image/png": "[encoded data removed]"
          },
          "metadata": {
            "needs_background": "light"
          }
        },
        {
          "output_type": "stream",
          "name": "stdout",
          "text": [
            "[7]\n",
            "[[0. 0. 0. 0. 0. 0. 0. 1. 0. 0.]]\n"
          ]
        }
      ]
    },
    {
      "cell_type": "code",
      "metadata": {
        "id": "Q99eoDRlnCJJ",
        "colab": {
          "base_uri": "https://localhost:8080/"
        },
        "outputId": "24be546c-c8ac-4b96-e875-de74e1814491"
      },
      "source": [
        "# classification model\n",
        "input_shape=x_train.shape[1]\n",
        "num_classes = y_train.shape[1]\n",
        "model = Sequential()\n",
        "model.add(Dense(350, activation='relu', input_shape=(28*28,)))\n",
        "model.add(Dense(50, activation='relu'))\n",
        "model.add(Dense(num_classes, activation='softmax'))\n",
        "\n",
        "model.compile(loss='categorical_crossentropy', optimizer='adam', metrics=['accuracy'])\n",
        "model.summary()\n",
        "\n",
        "model.fit(x_train, y_train, epochs=100, batch_size=512, verbose=1, validation_split=0.2)\n",
        "\n",
        "# Test the model after training\n",
        "test_results = model.evaluate(x_test, y_test, verbose=1)\n",
        "\n",
        "print(f'Test results \\n - Loss    : {test_results[0]: 0.3f}  \\n - Accuracy: {test_results[1]: 0.3f}')"
      ],
      "execution_count": null,
      "outputs": [
        {
          "output_type": "stream",
          "name": "stdout",
          "text": [
            "Model: \"sequential\"\n",
            "_________________________________________________________________\n",
            " Layer (type)                Output Shape              Param #   \n",
            "=================================================================\n",
            " dense (Dense)               (None, 350)               274750    \n",
            "                                                                 \n",
            " dense_1 (Dense)             (None, 50)                17550     \n",
            "                                                                 \n",
            " dense_2 (Dense)             (None, 10)                510       \n",
            "                                                                 \n",
            "=================================================================\n",
            "Total params: 292,810\n",
            "Trainable params: 292,810\n",
            "Non-trainable params: 0\n",
            "_________________________________________________________________\n",
            "Epoch 1/100\n",
            "94/94 [==============================] - 6s 11ms/step - loss: 0.5165 - accuracy: 0.8550 - val_loss: 0.2264 - val_accuracy: 0.9360\n",
            "Epoch 2/100\n",
            "94/94 [==============================] - 1s 7ms/step - loss: 0.1918 - accuracy: 0.9451 - val_loss: 0.1556 - val_accuracy: 0.9567\n",
            "Epoch 3/100\n",
            "94/94 [==============================] - 1s 5ms/step - loss: 0.1371 - accuracy: 0.9609 - val_loss: 0.1314 - val_accuracy: 0.9620\n",
            "Epoch 4/100\n",
            "94/94 [==============================] - 1s 6ms/step - loss: 0.1018 - accuracy: 0.9717 - val_loss: 0.1106 - val_accuracy: 0.9668\n",
            "Epoch 5/100\n",
            "94/94 [==============================] - 0s 5ms/step - loss: 0.0818 - accuracy: 0.9767 - val_loss: 0.1004 - val_accuracy: 0.9697\n",
            "Epoch 6/100\n",
            "94/94 [==============================] - 0s 5ms/step - loss: 0.0644 - accuracy: 0.9822 - val_loss: 0.0927 - val_accuracy: 0.9718\n",
            "Epoch 7/100\n",
            "94/94 [==============================] - 1s 6ms/step - loss: 0.0515 - accuracy: 0.9855 - val_loss: 0.0873 - val_accuracy: 0.9730\n",
            "Epoch 8/100\n",
            "94/94 [==============================] - 0s 5ms/step - loss: 0.0418 - accuracy: 0.9885 - val_loss: 0.0874 - val_accuracy: 0.9738\n",
            "Epoch 9/100\n",
            "94/94 [==============================] - 1s 6ms/step - loss: 0.0343 - accuracy: 0.9911 - val_loss: 0.0844 - val_accuracy: 0.9745\n",
            "Epoch 10/100\n",
            "94/94 [==============================] - 0s 5ms/step - loss: 0.0292 - accuracy: 0.9925 - val_loss: 0.0819 - val_accuracy: 0.9762\n",
            "Epoch 11/100\n",
            "94/94 [==============================] - 0s 5ms/step - loss: 0.0229 - accuracy: 0.9947 - val_loss: 0.0793 - val_accuracy: 0.9772\n",
            "Epoch 12/100\n",
            "94/94 [==============================] - 1s 6ms/step - loss: 0.0178 - accuracy: 0.9963 - val_loss: 0.0790 - val_accuracy: 0.9763\n",
            "Epoch 13/100\n",
            "94/94 [==============================] - 1s 6ms/step - loss: 0.0150 - accuracy: 0.9970 - val_loss: 0.0784 - val_accuracy: 0.9777\n",
            "Epoch 14/100\n",
            "94/94 [==============================] - 1s 6ms/step - loss: 0.0119 - accuracy: 0.9981 - val_loss: 0.0822 - val_accuracy: 0.9772\n",
            "Epoch 15/100\n",
            "94/94 [==============================] - 0s 5ms/step - loss: 0.0104 - accuracy: 0.9981 - val_loss: 0.0808 - val_accuracy: 0.9774\n",
            "Epoch 16/100\n",
            "94/94 [==============================] - 1s 6ms/step - loss: 0.0073 - accuracy: 0.9992 - val_loss: 0.0813 - val_accuracy: 0.9787\n",
            "Epoch 17/100\n",
            "94/94 [==============================] - 0s 5ms/step - loss: 0.0061 - accuracy: 0.9994 - val_loss: 0.0813 - val_accuracy: 0.9785\n",
            "Epoch 18/100\n",
            "94/94 [==============================] - 0s 5ms/step - loss: 0.0049 - accuracy: 0.9996 - val_loss: 0.0831 - val_accuracy: 0.9786\n",
            "Epoch 19/100\n",
            "94/94 [==============================] - 1s 6ms/step - loss: 0.0039 - accuracy: 0.9998 - val_loss: 0.0840 - val_accuracy: 0.9791\n",
            "Epoch 20/100\n",
            "94/94 [==============================] - 1s 6ms/step - loss: 0.0031 - accuracy: 0.9999 - val_loss: 0.0850 - val_accuracy: 0.9784\n",
            "Epoch 21/100\n",
            "94/94 [==============================] - 0s 5ms/step - loss: 0.0026 - accuracy: 0.9999 - val_loss: 0.0840 - val_accuracy: 0.9783\n",
            "Epoch 22/100\n",
            "94/94 [==============================] - 1s 6ms/step - loss: 0.0021 - accuracy: 1.0000 - val_loss: 0.0872 - val_accuracy: 0.9787\n",
            "Epoch 23/100\n",
            "94/94 [==============================] - 1s 7ms/step - loss: 0.0019 - accuracy: 1.0000 - val_loss: 0.0874 - val_accuracy: 0.9787\n",
            "Epoch 24/100\n",
            "94/94 [==============================] - 1s 7ms/step - loss: 0.0016 - accuracy: 1.0000 - val_loss: 0.0886 - val_accuracy: 0.9788\n",
            "Epoch 25/100\n",
            "94/94 [==============================] - 1s 6ms/step - loss: 0.0014 - accuracy: 1.0000 - val_loss: 0.0882 - val_accuracy: 0.9794\n",
            "Epoch 26/100\n",
            "94/94 [==============================] - 1s 6ms/step - loss: 0.0012 - accuracy: 1.0000 - val_loss: 0.0913 - val_accuracy: 0.9789\n",
            "Epoch 27/100\n",
            "94/94 [==============================] - 1s 6ms/step - loss: 0.0014 - accuracy: 0.9999 - val_loss: 0.0926 - val_accuracy: 0.9784\n",
            "Epoch 28/100\n",
            "94/94 [==============================] - 0s 5ms/step - loss: 0.0011 - accuracy: 1.0000 - val_loss: 0.0934 - val_accuracy: 0.9793\n",
            "Epoch 29/100\n",
            "94/94 [==============================] - 1s 6ms/step - loss: 8.5620e-04 - accuracy: 1.0000 - val_loss: 0.0928 - val_accuracy: 0.9795\n",
            "Epoch 30/100\n",
            "94/94 [==============================] - 1s 6ms/step - loss: 7.3859e-04 - accuracy: 1.0000 - val_loss: 0.0929 - val_accuracy: 0.9799\n",
            "Epoch 31/100\n",
            "94/94 [==============================] - 0s 5ms/step - loss: 6.6021e-04 - accuracy: 1.0000 - val_loss: 0.0937 - val_accuracy: 0.9796\n",
            "Epoch 32/100\n",
            "94/94 [==============================] - 1s 6ms/step - loss: 6.0560e-04 - accuracy: 1.0000 - val_loss: 0.0956 - val_accuracy: 0.9798\n",
            "Epoch 33/100\n",
            "94/94 [==============================] - 0s 5ms/step - loss: 5.3235e-04 - accuracy: 1.0000 - val_loss: 0.0955 - val_accuracy: 0.9801\n",
            "Epoch 34/100\n",
            "94/94 [==============================] - 0s 5ms/step - loss: 4.9008e-04 - accuracy: 1.0000 - val_loss: 0.0959 - val_accuracy: 0.9801\n",
            "Epoch 35/100\n",
            "94/94 [==============================] - 0s 5ms/step - loss: 4.4711e-04 - accuracy: 1.0000 - val_loss: 0.0957 - val_accuracy: 0.9801\n",
            "Epoch 36/100\n",
            "94/94 [==============================] - 0s 5ms/step - loss: 4.0948e-04 - accuracy: 1.0000 - val_loss: 0.0977 - val_accuracy: 0.9803\n",
            "Epoch 37/100\n",
            "94/94 [==============================] - 0s 5ms/step - loss: 3.7554e-04 - accuracy: 1.0000 - val_loss: 0.0983 - val_accuracy: 0.9801\n",
            "Epoch 38/100\n",
            "94/94 [==============================] - 0s 5ms/step - loss: 3.4812e-04 - accuracy: 1.0000 - val_loss: 0.0985 - val_accuracy: 0.9802\n",
            "Epoch 39/100\n",
            "94/94 [==============================] - 1s 6ms/step - loss: 3.1926e-04 - accuracy: 1.0000 - val_loss: 0.0998 - val_accuracy: 0.9798\n",
            "Epoch 40/100\n",
            "94/94 [==============================] - 0s 5ms/step - loss: 2.9147e-04 - accuracy: 1.0000 - val_loss: 0.0998 - val_accuracy: 0.9802\n",
            "Epoch 41/100\n",
            "94/94 [==============================] - 0s 5ms/step - loss: 2.7760e-04 - accuracy: 1.0000 - val_loss: 0.1017 - val_accuracy: 0.9799\n",
            "Epoch 42/100\n",
            "94/94 [==============================] - 1s 6ms/step - loss: 2.5366e-04 - accuracy: 1.0000 - val_loss: 0.1013 - val_accuracy: 0.9797\n",
            "Epoch 43/100\n",
            "94/94 [==============================] - 1s 6ms/step - loss: 2.3752e-04 - accuracy: 1.0000 - val_loss: 0.1023 - val_accuracy: 0.9796\n",
            "Epoch 44/100\n",
            "94/94 [==============================] - 0s 5ms/step - loss: 2.1930e-04 - accuracy: 1.0000 - val_loss: 0.1025 - val_accuracy: 0.9798\n",
            "Epoch 45/100\n",
            "94/94 [==============================] - 1s 6ms/step - loss: 2.0242e-04 - accuracy: 1.0000 - val_loss: 0.1032 - val_accuracy: 0.9798\n",
            "Epoch 46/100\n",
            "94/94 [==============================] - 1s 8ms/step - loss: 1.8814e-04 - accuracy: 1.0000 - val_loss: 0.1045 - val_accuracy: 0.9802\n",
            "Epoch 47/100\n",
            "94/94 [==============================] - 1s 7ms/step - loss: 1.7495e-04 - accuracy: 1.0000 - val_loss: 0.1053 - val_accuracy: 0.9797\n",
            "Epoch 48/100\n",
            "94/94 [==============================] - 1s 7ms/step - loss: 1.6430e-04 - accuracy: 1.0000 - val_loss: 0.1061 - val_accuracy: 0.9797\n",
            "Epoch 49/100\n",
            "94/94 [==============================] - 1s 5ms/step - loss: 1.5068e-04 - accuracy: 1.0000 - val_loss: 0.1064 - val_accuracy: 0.9799\n",
            "Epoch 50/100\n",
            "94/94 [==============================] - 1s 6ms/step - loss: 1.4284e-04 - accuracy: 1.0000 - val_loss: 0.1065 - val_accuracy: 0.9800\n",
            "Epoch 51/100\n",
            "94/94 [==============================] - 1s 6ms/step - loss: 1.3311e-04 - accuracy: 1.0000 - val_loss: 0.1075 - val_accuracy: 0.9801\n",
            "Epoch 52/100\n",
            "94/94 [==============================] - 1s 6ms/step - loss: 1.2643e-04 - accuracy: 1.0000 - val_loss: 0.1076 - val_accuracy: 0.9799\n",
            "Epoch 53/100\n",
            "94/94 [==============================] - 1s 6ms/step - loss: 1.1610e-04 - accuracy: 1.0000 - val_loss: 0.1090 - val_accuracy: 0.9797\n",
            "Epoch 54/100\n",
            "94/94 [==============================] - 0s 5ms/step - loss: 1.0787e-04 - accuracy: 1.0000 - val_loss: 0.1097 - val_accuracy: 0.9797\n",
            "Epoch 55/100\n",
            "94/94 [==============================] - 0s 5ms/step - loss: 1.0087e-04 - accuracy: 1.0000 - val_loss: 0.1106 - val_accuracy: 0.9797\n",
            "Epoch 56/100\n",
            "94/94 [==============================] - 1s 6ms/step - loss: 9.5605e-05 - accuracy: 1.0000 - val_loss: 0.1107 - val_accuracy: 0.9798\n",
            "Epoch 57/100\n",
            "94/94 [==============================] - 1s 6ms/step - loss: 8.9137e-05 - accuracy: 1.0000 - val_loss: 0.1121 - val_accuracy: 0.9795\n",
            "Epoch 58/100\n",
            "94/94 [==============================] - 0s 5ms/step - loss: 8.4040e-05 - accuracy: 1.0000 - val_loss: 0.1124 - val_accuracy: 0.9794\n",
            "Epoch 59/100\n",
            "94/94 [==============================] - 0s 5ms/step - loss: 7.7411e-05 - accuracy: 1.0000 - val_loss: 0.1123 - val_accuracy: 0.9799\n",
            "Epoch 60/100\n",
            "94/94 [==============================] - 1s 6ms/step - loss: 7.2890e-05 - accuracy: 1.0000 - val_loss: 0.1137 - val_accuracy: 0.9797\n",
            "Epoch 61/100\n",
            "94/94 [==============================] - 1s 6ms/step - loss: 6.7909e-05 - accuracy: 1.0000 - val_loss: 0.1147 - val_accuracy: 0.9796\n",
            "Epoch 62/100\n",
            "94/94 [==============================] - 1s 6ms/step - loss: 6.3638e-05 - accuracy: 1.0000 - val_loss: 0.1150 - val_accuracy: 0.9799\n",
            "Epoch 63/100\n",
            "94/94 [==============================] - 0s 5ms/step - loss: 6.0273e-05 - accuracy: 1.0000 - val_loss: 0.1152 - val_accuracy: 0.9800\n",
            "Epoch 64/100\n",
            "94/94 [==============================] - 1s 6ms/step - loss: 5.7882e-05 - accuracy: 1.0000 - val_loss: 0.1158 - val_accuracy: 0.9798\n",
            "Epoch 65/100\n",
            "94/94 [==============================] - 1s 6ms/step - loss: 5.2550e-05 - accuracy: 1.0000 - val_loss: 0.1161 - val_accuracy: 0.9802\n",
            "Epoch 66/100\n",
            "94/94 [==============================] - 1s 6ms/step - loss: 5.0414e-05 - accuracy: 1.0000 - val_loss: 0.1176 - val_accuracy: 0.9795\n",
            "Epoch 67/100\n",
            "94/94 [==============================] - 0s 5ms/step - loss: 4.7154e-05 - accuracy: 1.0000 - val_loss: 0.1190 - val_accuracy: 0.9796\n",
            "Epoch 68/100\n",
            "94/94 [==============================] - 1s 9ms/step - loss: 4.4688e-05 - accuracy: 1.0000 - val_loss: 0.1186 - val_accuracy: 0.9797\n",
            "Epoch 69/100\n",
            "94/94 [==============================] - 1s 7ms/step - loss: 4.1239e-05 - accuracy: 1.0000 - val_loss: 0.1189 - val_accuracy: 0.9795\n",
            "Epoch 70/100\n",
            "94/94 [==============================] - 1s 7ms/step - loss: 3.8832e-05 - accuracy: 1.0000 - val_loss: 0.1196 - val_accuracy: 0.9793\n",
            "Epoch 71/100\n",
            "94/94 [==============================] - 1s 6ms/step - loss: 3.6943e-05 - accuracy: 1.0000 - val_loss: 0.1202 - val_accuracy: 0.9795\n",
            "Epoch 72/100\n",
            "94/94 [==============================] - 0s 5ms/step - loss: 3.5133e-05 - accuracy: 1.0000 - val_loss: 0.1213 - val_accuracy: 0.9793\n",
            "Epoch 73/100\n",
            "94/94 [==============================] - 0s 5ms/step - loss: 3.2784e-05 - accuracy: 1.0000 - val_loss: 0.1219 - val_accuracy: 0.9796\n",
            "Epoch 74/100\n",
            "94/94 [==============================] - 1s 6ms/step - loss: 3.0571e-05 - accuracy: 1.0000 - val_loss: 0.1228 - val_accuracy: 0.9796\n",
            "Epoch 75/100\n",
            "94/94 [==============================] - 1s 6ms/step - loss: 2.8890e-05 - accuracy: 1.0000 - val_loss: 0.1233 - val_accuracy: 0.9792\n",
            "Epoch 76/100\n",
            "94/94 [==============================] - 0s 5ms/step - loss: 2.7346e-05 - accuracy: 1.0000 - val_loss: 0.1234 - val_accuracy: 0.9795\n",
            "Epoch 77/100\n",
            "94/94 [==============================] - 0s 5ms/step - loss: 2.5939e-05 - accuracy: 1.0000 - val_loss: 0.1240 - val_accuracy: 0.9798\n",
            "Epoch 78/100\n",
            "94/94 [==============================] - 0s 5ms/step - loss: 2.4187e-05 - accuracy: 1.0000 - val_loss: 0.1244 - val_accuracy: 0.9793\n",
            "Epoch 79/100\n",
            "94/94 [==============================] - 0s 5ms/step - loss: 2.2730e-05 - accuracy: 1.0000 - val_loss: 0.1255 - val_accuracy: 0.9793\n",
            "Epoch 80/100\n",
            "94/94 [==============================] - 0s 5ms/step - loss: 2.1374e-05 - accuracy: 1.0000 - val_loss: 0.1264 - val_accuracy: 0.9792\n",
            "Epoch 81/100\n",
            "94/94 [==============================] - 0s 5ms/step - loss: 2.0299e-05 - accuracy: 1.0000 - val_loss: 0.1260 - val_accuracy: 0.9796\n",
            "Epoch 82/100\n",
            "94/94 [==============================] - 0s 5ms/step - loss: 1.9239e-05 - accuracy: 1.0000 - val_loss: 0.1268 - val_accuracy: 0.9796\n",
            "Epoch 83/100\n",
            "94/94 [==============================] - 1s 6ms/step - loss: 1.8030e-05 - accuracy: 1.0000 - val_loss: 0.1284 - val_accuracy: 0.9794\n",
            "Epoch 84/100\n",
            "94/94 [==============================] - 1s 6ms/step - loss: 1.6941e-05 - accuracy: 1.0000 - val_loss: 0.1283 - val_accuracy: 0.9797\n",
            "Epoch 85/100\n",
            "94/94 [==============================] - 1s 6ms/step - loss: 1.5946e-05 - accuracy: 1.0000 - val_loss: 0.1286 - val_accuracy: 0.9797\n",
            "Epoch 86/100\n",
            "94/94 [==============================] - 1s 6ms/step - loss: 1.5097e-05 - accuracy: 1.0000 - val_loss: 0.1291 - val_accuracy: 0.9798\n",
            "Epoch 87/100\n",
            "94/94 [==============================] - 0s 5ms/step - loss: 1.4359e-05 - accuracy: 1.0000 - val_loss: 0.1304 - val_accuracy: 0.9793\n",
            "Epoch 88/100\n",
            "94/94 [==============================] - 0s 5ms/step - loss: 1.3501e-05 - accuracy: 1.0000 - val_loss: 0.1309 - val_accuracy: 0.9794\n",
            "Epoch 89/100\n",
            "94/94 [==============================] - 0s 5ms/step - loss: 1.2731e-05 - accuracy: 1.0000 - val_loss: 0.1308 - val_accuracy: 0.9794\n",
            "Epoch 90/100\n",
            "94/94 [==============================] - 0s 5ms/step - loss: 1.2076e-05 - accuracy: 1.0000 - val_loss: 0.1313 - val_accuracy: 0.9794\n",
            "Epoch 91/100\n",
            "94/94 [==============================] - 1s 8ms/step - loss: 1.1443e-05 - accuracy: 1.0000 - val_loss: 0.1325 - val_accuracy: 0.9795\n",
            "Epoch 92/100\n",
            "94/94 [==============================] - 1s 11ms/step - loss: 1.0716e-05 - accuracy: 1.0000 - val_loss: 0.1335 - val_accuracy: 0.9795\n",
            "Epoch 93/100\n",
            "94/94 [==============================] - 1s 7ms/step - loss: 1.0115e-05 - accuracy: 1.0000 - val_loss: 0.1338 - val_accuracy: 0.9796\n",
            "Epoch 94/100\n",
            "94/94 [==============================] - 1s 6ms/step - loss: 9.6749e-06 - accuracy: 1.0000 - val_loss: 0.1336 - val_accuracy: 0.9799\n",
            "Epoch 95/100\n",
            "94/94 [==============================] - 1s 6ms/step - loss: 9.0976e-06 - accuracy: 1.0000 - val_loss: 0.1344 - val_accuracy: 0.9799\n",
            "Epoch 96/100\n",
            "94/94 [==============================] - 0s 5ms/step - loss: 8.5662e-06 - accuracy: 1.0000 - val_loss: 0.1357 - val_accuracy: 0.9792\n",
            "Epoch 97/100\n",
            "94/94 [==============================] - 0s 5ms/step - loss: 8.1967e-06 - accuracy: 1.0000 - val_loss: 0.1357 - val_accuracy: 0.9794\n",
            "Epoch 98/100\n",
            "94/94 [==============================] - 1s 6ms/step - loss: 7.6701e-06 - accuracy: 1.0000 - val_loss: 0.1365 - val_accuracy: 0.9795\n",
            "Epoch 99/100\n",
            "94/94 [==============================] - 0s 5ms/step - loss: 7.2142e-06 - accuracy: 1.0000 - val_loss: 0.1367 - val_accuracy: 0.9795\n",
            "Epoch 100/100\n",
            "94/94 [==============================] - 1s 7ms/step - loss: 6.9705e-06 - accuracy: 1.0000 - val_loss: 0.1379 - val_accuracy: 0.9792\n",
            "313/313 [==============================] - 1s 4ms/step - loss: 0.1187 - accuracy: 0.9818\n",
            "Test results \n",
            " - Loss    :  0.119  \n",
            " - Accuracy:  0.982\n"
          ]
        }
      ]
    },
    {
      "cell_type": "code",
      "metadata": {
        "id": "6yGngPbEuY51",
        "colab": {
          "base_uri": "https://localhost:8080/",
          "height": 917
        },
        "outputId": "17860289-547f-4d1c-b92c-86d41bed62f8"
      },
      "source": [
        "y_pred = model.predict(x_test)\n",
        "\n",
        "predicted_labels = np.argmax(y_pred, axis=-1)\n",
        "actual_labels = np.argmax(y_test, axis=-1)\n",
        "\n",
        "print('Precision score:', precision_score(actual_labels, predicted_labels, average='macro'))\n",
        "print('Recall score   :', recall_score(actual_labels, predicted_labels, average='macro'))\n",
        "\n",
        "\n",
        "print('Confusion Matrix')\n",
        "print(confusion_matrix(y_test.argmax(1), y_pred.argmax(1)))\n",
        "\n",
        "cmap = ListedColormap(['lightgrey', 'silver', 'ghostwhite', 'lavender', 'wheat'])\n",
        "\n",
        "#confusion matrix\n",
        "def cm(y_test, y_pred, title):\n",
        "  cm = confusion_matrix(y_test, y_pred)\n",
        "\n",
        "  plt.figure()\n",
        "  plt.matshow(cm, cmap=cmap)\n",
        "  \n",
        "  for i in range(cm.shape[0]):\n",
        "    for j in range(cm.shape[1]):\n",
        "      plt.text(x=j, y=i, s=cm[i,j], va='center', ha='center')\n",
        "  \n",
        "  plt.title(title)\n",
        "  plt.xlabel('Predicted label')\n",
        "  plt.ylabel('True label')\n",
        "  plt.show()\n",
        "\n",
        "cm(y_train.argmax(1), model.predict(x_train).argmax(1), title='Train')\n",
        "cm(y_test.argmax(1), model.predict(x_test).argmax(1), title='Test')"
      ],
      "execution_count": null,
      "outputs": [
        {
          "output_type": "stream",
          "name": "stdout",
          "text": [
            "313/313 [==============================] - 1s 2ms/step\n",
            "Precision score: 0.9817451718787883\n",
            "Recall score   : 0.9816496584126522\n",
            "Confusion Matrix\n",
            "[[ 971    1    1    1    1    1    1    1    1    1]\n",
            " [   0 1125    4    1    0    1    2    0    2    0]\n",
            " [   5    2 1007    3    3    0    2    5    5    0]\n",
            " [   1    0    3  991    0    3    1    2    5    4]\n",
            " [   1    0    3    0  966    0    2    2    2    6]\n",
            " [   1    0    0    8    1  871    6    0    2    3]\n",
            " [   5    3    1    1    3    4  941    0    0    0]\n",
            " [   1    4    6    1    1    0    0 1009    1    5]\n",
            " [   3    0    3    3    4    3    2    3  951    2]\n",
            " [   2    2    0    5    7    1    1    5    0  986]]\n",
            "1875/1875 [==============================] - 6s 3ms/step\n"
          ]
        },
        {
          "output_type": "display_data",
          "data": {
            "text/plain": [
              "<Figure size 432x288 with 0 Axes>"
            ]
          },
          "metadata": {}
        },
        {
          "output_type": "display_data",
          "data": {
            "text/plain": [
              "<Figure size 288x288 with 1 Axes>"
            ],
            "image/png": "[encoded data removed]"
          },
          "metadata": {
            "needs_background": "light"
          }
        },
        {
          "output_type": "stream",
          "name": "stdout",
          "text": [
            "313/313 [==============================] - 1s 2ms/step\n"
          ]
        },
        {
          "output_type": "display_data",
          "data": {
            "text/plain": [
              "<Figure size 432x288 with 0 Axes>"
            ]
          },
          "metadata": {}
        },
        {
          "output_type": "display_data",
          "data": {
            "text/plain": [
              "<Figure size 288x288 with 1 Axes>"
            ],
            "image/png": "[encoded data removed]"
          },
          "metadata": {
            "needs_background": "light"
          }
        }
      ]
    }
  ]
}