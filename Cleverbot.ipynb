{
  "cells": [
    {
      "cell_type": "markdown",
      "metadata": {
        "id": "view-in-github",
        "colab_type": "text"
      },
      "source": [
        "<a href=\"https://colab.research.google.com/github/ibribr/DT8807/blob/master/Cleverbot.ipynb\" target=\"_parent\"><img src=\"https://colab.research.google.com/assets/colab-badge.svg\" alt=\"Open In Colab\"/></a>"
      ]
    },
    {
      "cell_type": "code",
      "execution_count": 1,
      "metadata": {
        "colab": {
          "base_uri": "https://localhost:8080/"
        },
        "id": "FC3PcqywCOVy",
        "outputId": "ac3bb705-d7a6-429e-f790-c95d1c261909"
      },
      "outputs": [
        {
          "output_type": "stream",
          "name": "stdout",
          "text": [
            "Looking in indexes: https://pypi.org/simple, https://us-python.pkg.dev/colab-wheels/public/simple/\n",
            "Collecting cleverbot.py\n",
            "  Downloading cleverbot.py-2.5.0-py2.py3-none-any.whl (15 kB)\n",
            "Requirement already satisfied: requests>=1.0.0 in /usr/local/lib/python3.7/dist-packages (from cleverbot.py) (2.23.0)\n",
            "Requirement already satisfied: idna<3,>=2.5 in /usr/local/lib/python3.7/dist-packages (from requests>=1.0.0->cleverbot.py) (2.10)\n",
            "Requirement already satisfied: chardet<4,>=3.0.2 in /usr/local/lib/python3.7/dist-packages (from requests>=1.0.0->cleverbot.py) (3.0.4)\n",
            "Requirement already satisfied: certifi>=2017.4.17 in /usr/local/lib/python3.7/dist-packages (from requests>=1.0.0->cleverbot.py) (2022.6.15)\n",
            "Requirement already satisfied: urllib3!=1.25.0,!=1.25.1,<1.26,>=1.21.1 in /usr/local/lib/python3.7/dist-packages (from requests>=1.0.0->cleverbot.py) (1.24.3)\n",
            "Installing collected packages: cleverbot.py\n",
            "Successfully installed cleverbot.py-2.5.0\n",
            "Looking in indexes: https://pypi.org/simple, https://us-python.pkg.dev/colab-wheels/public/simple/\n",
            "Collecting pyttsx3\n",
            "  Downloading pyttsx3-2.90-py3-none-any.whl (39 kB)\n",
            "Installing collected packages: pyttsx3\n",
            "Successfully installed pyttsx3-2.90\n",
            "Looking in indexes: https://pypi.org/simple, https://us-python.pkg.dev/colab-wheels/public/simple/\n",
            "Collecting eng_to_ipa\n",
            "  Downloading eng_to_ipa-0.0.2.tar.gz (2.8 MB)\n",
            "\u001b[K     |████████████████████████████████| 2.8 MB 10.1 MB/s \n",
            "\u001b[?25hBuilding wheels for collected packages: eng-to-ipa\n",
            "  Building wheel for eng-to-ipa (setup.py) ... \u001b[?25l\u001b[?25hdone\n",
            "  Created wheel for eng-to-ipa: filename=eng_to_ipa-0.0.2-py3-none-any.whl size=2822641 sha256=99fe7376a3344cb3c65697b03ce4a5266f5f51efa3ac25647358ad8acfcddcbe\n",
            "  Stored in directory: /root/.cache/pip/wheels/96/c0/dd/aeddfbebc2c3301c3dd09670d9954b0574ac4cd982664c1110\n",
            "Successfully built eng-to-ipa\n",
            "Installing collected packages: eng-to-ipa\n",
            "Successfully installed eng-to-ipa-0.0.2\n"
          ]
        }
      ],
      "source": [
        "!pip install cleverbot.py\n",
        "!pip install pyttsx3\n",
        "!pip install eng_to_ipa"
      ]
    },
    {
      "cell_type": "code",
      "execution_count": 2,
      "metadata": {
        "id": "cbTJ6hZzDgVA",
        "colab": {
          "base_uri": "https://localhost:8080/"
        },
        "outputId": "858daf1a-41fe-42c1-c5f9-d9de2b6761b8"
      },
      "outputs": [
        {
          "name": "stdout",
          "output_type": "stream",
          "text": [
            "Welcome to Cleverbot, To exit type 'Exit' in the input\n",
            "Say to Cleverbot: how are you\n",
            "I'm good. How are you?\n",
            "əm gʊd. haʊ ər ju?\n",
            "Say to Cleverbot: exit\n",
            "Do you want to exit? type 'Y'/'y' to exit, 'N'/'n' to return: y\n"
          ]
        }
      ],
      "source": [
        "import cleverbot;\n",
        "import pyttsx3\n",
        "import eng_to_ipa as ipa\n",
        "exit = False;\n",
        "print(\"Welcome to Cleverbot, To exit type 'Exit' in the input\")\n",
        "cb = cleverbot.Cleverbot('CC9jdv_6nkMJo5pZCZSM6ReFqPg', timeout = 60) # Creates a new cleverbot conversation\n",
        "convo = cb.conversation()\n",
        "#engine = pyttsx3.init() # initiates the text to speech module\n",
        "#voices = engine.getProperty('voices')\n",
        "#engine.setProperty('voice', voices[1].id)   # Sets the gender of tts voice (0 = male, 1 = female)\n",
        "#rate = engine.getProperty('rate')   # getting details of current speaking rate\n",
        "#engine.setProperty('rate', 150)     # Sets the rate of speech in WPM (Words Per Minute)\n",
        "while exit != True:\n",
        "    inputText = input(\"Say to Cleverbot: \")\n",
        "    if inputText.lower() == \"exit\":\n",
        "        while inputText.lower() == \"exit\":\n",
        "            inputText = input(\"Do you want to exit? type 'Y'/'y' to exit, 'N'/'n' to return: \")\n",
        "            if inputText.lower() == \"y\":\n",
        "                exit = True\n",
        "                break\n",
        "            elif inputText.lower() == \"n\":\n",
        "                exit = False\n",
        "                break\n",
        "            else:\n",
        "                print(\"You answered with something else than 'Y'/'y' or 'N'/'n', try again\")\n",
        "                inputText = \"Exit\"\n",
        "    else:\n",
        "        try:\n",
        "            reply = convo.say(inputText)\n",
        "        except cleverbot.CleverbotError as error:\n",
        "            print(error)\n",
        "        else:\n",
        "            print(reply)\n",
        "            print(ipa.convert(reply))\n",
        "            #engine.say(reply)\n",
        "            #engine.runAndWait()\n",
        "\n",
        "convo.reset()\n",
        "cb.close()\n",
        "# type exit to stop running cleverbot and then Y"
      ]
    }
  ],
  "metadata": {
    "colab": {
      "provenance": [],
      "collapsed_sections": [],
      "include_colab_link": true
    },
    "kernelspec": {
      "display_name": "Python 3",
      "name": "python3"
    },
    "language_info": {
      "name": "python"
    }
  },
  "nbformat": 4,
  "nbformat_minor": 0
}